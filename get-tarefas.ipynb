{
 "cells": [
  {
   "cell_type": "markdown",
   "metadata": {},
   "source": [
    "# Correção de Tarefas\n",
    "Verifica as atividades feitas e gera os CSV para serem incluídos nas planilhas de controle de notas da disciplina de DeepLearning da UnB"
   ]
  },
  {
   "cell_type": "code",
   "execution_count": 1,
   "metadata": {},
   "outputs": [
    {
     "data": {
      "application/json": [
       {
        "commit": {
         "sha": "a062e9274f6524e3a2b0b4efbd8e1715de160a9a",
         "url": "https://api.github.com/repos/deeplearningunb/building-ann/commits/a062e9274f6524e3a2b0b4efbd8e1715de160a9a"
        },
        "name": "AlGouvea",
        "protected": false,
        "protection": {
         "enabled": false,
         "required_status_checks": {
          "contexts": [],
          "enforcement_level": "off"
         }
        },
        "protection_url": "https://api.github.com/repos/deeplearningunb/building-ann/branches/AlGouvea/protection"
       },
       {
        "commit": {
         "sha": "fb8eaf60fdb44d4e40b735440ec8d4b4206b1154",
         "url": "https://api.github.com/repos/deeplearningunb/building-ann/commits/fb8eaf60fdb44d4e40b735440ec8d4b4206b1154"
        },
        "name": "Bruno_Duarte",
        "protected": false,
        "protection": {
         "enabled": false,
         "required_status_checks": {
          "contexts": [],
          "enforcement_level": "off"
         }
        },
        "protection_url": "https://api.github.com/repos/deeplearningunb/building-ann/branches/Bruno_Duarte/protection"
       },
       {
        "commit": {
         "sha": "346b815b3b78b07076a4fe8a1b7b66bdcaa0e901",
         "url": "https://api.github.com/repos/deeplearningunb/building-ann/commits/346b815b3b78b07076a4fe8a1b7b66bdcaa0e901"
        },
        "name": "ByronKamal",
        "protected": false,
        "protection": {
         "enabled": false,
         "required_status_checks": {
          "contexts": [],
          "enforcement_level": "off"
         }
        },
        "protection_url": "https://api.github.com/repos/deeplearningunb/building-ann/branches/ByronKamal/protection"
       },
       {
        "commit": {
         "sha": "fa10eb1aa2549361d98b9298445f04a10bdc8555",
         "url": "https://api.github.com/repos/deeplearningunb/building-ann/commits/fa10eb1aa2549361d98b9298445f04a10bdc8555"
        },
        "name": "Danilo_Domingo",
        "protected": false,
        "protection": {
         "enabled": false,
         "required_status_checks": {
          "contexts": [],
          "enforcement_level": "off"
         }
        },
        "protection_url": "https://api.github.com/repos/deeplearningunb/building-ann/branches/Danilo_Domingo/protection"
       },
       {
        "commit": {
         "sha": "70fe8a717138d3ae9724f147d44d44457afce7a9",
         "url": "https://api.github.com/repos/deeplearningunb/building-ann/commits/70fe8a717138d3ae9724f147d44d44457afce7a9"
        },
        "name": "DaviAlves",
        "protected": false,
        "protection": {
         "enabled": false,
         "required_status_checks": {
          "contexts": [],
          "enforcement_level": "off"
         }
        },
        "protection_url": "https://api.github.com/repos/deeplearningunb/building-ann/branches/DaviAlves/protection"
       },
       {
        "commit": {
         "sha": "859a69116cdae3530c197a8e0bb34cd9cfe0627a",
         "url": "https://api.github.com/repos/deeplearningunb/building-ann/commits/859a69116cdae3530c197a8e0bb34cd9cfe0627a"
        },
        "name": "EduardoNunes",
        "protected": false,
        "protection": {
         "enabled": false,
         "required_status_checks": {
          "contexts": [],
          "enforcement_level": "off"
         }
        },
        "protection_url": "https://api.github.com/repos/deeplearningunb/building-ann/branches/EduardoNunes/protection"
       },
       {
        "commit": {
         "sha": "5d198ddbe3df806d5c11f17412d503f5b6bc9cf8",
         "url": "https://api.github.com/repos/deeplearningunb/building-ann/commits/5d198ddbe3df806d5c11f17412d503f5b6bc9cf8"
        },
        "name": "ErickGiffoni",
        "protected": false,
        "protection": {
         "enabled": false,
         "required_status_checks": {
          "contexts": [],
          "enforcement_level": "off"
         }
        },
        "protection_url": "https://api.github.com/repos/deeplearningunb/building-ann/branches/ErickGiffoni/protection"
       },
       {
        "commit": {
         "sha": "20f8bd5e314b40ec94e4435eefdc249298f3d0f5",
         "url": "https://api.github.com/repos/deeplearningunb/building-ann/commits/20f8bd5e314b40ec94e4435eefdc249298f3d0f5"
        },
        "name": "EugenioSales",
        "protected": false,
        "protection": {
         "enabled": false,
         "required_status_checks": {
          "contexts": [],
          "enforcement_level": "off"
         }
        },
        "protection_url": "https://api.github.com/repos/deeplearningunb/building-ann/branches/EugenioSales/protection"
       },
       {
        "commit": {
         "sha": "ed72d6f48cf50eb7c4993725f3ecf387eeb9499c",
         "url": "https://api.github.com/repos/deeplearningunb/building-ann/commits/ed72d6f48cf50eb7c4993725f3ecf387eeb9499c"
        },
        "name": "Ezequiel",
        "protected": false,
        "protection": {
         "enabled": false,
         "required_status_checks": {
          "contexts": [],
          "enforcement_level": "off"
         }
        },
        "protection_url": "https://api.github.com/repos/deeplearningunb/building-ann/branches/Ezequiel/protection"
       },
       {
        "commit": {
         "sha": "f8447ff63b04d152cce54109d96f6269498773a1",
         "url": "https://api.github.com/repos/deeplearningunb/building-ann/commits/f8447ff63b04d152cce54109d96f6269498773a1"
        },
        "name": "FellipeAraujo",
        "protected": false,
        "protection": {
         "enabled": false,
         "required_status_checks": {
          "contexts": [],
          "enforcement_level": "off"
         }
        },
        "protection_url": "https://api.github.com/repos/deeplearningunb/building-ann/branches/FellipeAraujo/protection"
       },
       {
        "commit": {
         "sha": "642f755484766807d85e444ad2ae45bb6b3fcbeb",
         "url": "https://api.github.com/repos/deeplearningunb/building-ann/commits/642f755484766807d85e444ad2ae45bb6b3fcbeb"
        },
        "name": "Gabriel_Andrew_Zarbielli",
        "protected": false,
        "protection": {
         "enabled": false,
         "required_status_checks": {
          "contexts": [],
          "enforcement_level": "off"
         }
        },
        "protection_url": "https://api.github.com/repos/deeplearningunb/building-ann/branches/Gabriel_Andrew_Zarbielli/protection"
       },
       {
        "commit": {
         "sha": "ca94411e008709b6dda2143baff6d26ccc0fb9c1",
         "url": "https://api.github.com/repos/deeplearningunb/building-ann/commits/ca94411e008709b6dda2143baff6d26ccc0fb9c1"
        },
        "name": "Gabriela_Guedes",
        "protected": false,
        "protection": {
         "enabled": false,
         "required_status_checks": {
          "contexts": [],
          "enforcement_level": "off"
         }
        },
        "protection_url": "https://api.github.com/repos/deeplearningunb/building-ann/branches/Gabriela_Guedes/protection"
       },
       {
        "commit": {
         "sha": "c95580435acda1810dc8c809a78bea46a6c7291c",
         "url": "https://api.github.com/repos/deeplearningunb/building-ann/commits/c95580435acda1810dc8c809a78bea46a6c7291c"
        },
        "name": "GabrielleRibeiro",
        "protected": false,
        "protection": {
         "enabled": false,
         "required_status_checks": {
          "contexts": [],
          "enforcement_level": "off"
         }
        },
        "protection_url": "https://api.github.com/repos/deeplearningunb/building-ann/branches/GabrielleRibeiro/protection"
       },
       {
        "commit": {
         "sha": "76223c47ddfcaf64eec5275004b12a5232ddefce",
         "url": "https://api.github.com/repos/deeplearningunb/building-ann/commits/76223c47ddfcaf64eec5275004b12a5232ddefce"
        },
        "name": "GuilhermeLeal",
        "protected": false,
        "protection": {
         "enabled": false,
         "required_status_checks": {
          "contexts": [],
          "enforcement_level": "off"
         }
        },
        "protection_url": "https://api.github.com/repos/deeplearningunb/building-ann/branches/GuilhermeLeal/protection"
       },
       {
        "commit": {
         "sha": "e833df8203d3aa28cb6f6e0e2120e40ddbf72c7d",
         "url": "https://api.github.com/repos/deeplearningunb/building-ann/commits/e833df8203d3aa28cb6f6e0e2120e40ddbf72c7d"
        },
        "name": "Gustavo_Nogueira",
        "protected": false,
        "protection": {
         "enabled": false,
         "required_status_checks": {
          "contexts": [],
          "enforcement_level": "off"
         }
        },
        "protection_url": "https://api.github.com/repos/deeplearningunb/building-ann/branches/Gustavo_Nogueira/protection"
       },
       {
        "commit": {
         "sha": "9f1e59f3b350fe02923688ba882e86439017312d",
         "url": "https://api.github.com/repos/deeplearningunb/building-ann/commits/9f1e59f3b350fe02923688ba882e86439017312d"
        },
        "name": "Helena_Bretas_Goulart",
        "protected": false,
        "protection": {
         "enabled": false,
         "required_status_checks": {
          "contexts": [],
          "enforcement_level": "off"
         }
        },
        "protection_url": "https://api.github.com/repos/deeplearningunb/building-ann/branches/Helena_Bretas_Goulart/protection"
       },
       {
        "commit": {
         "sha": "0f5262be8fbe694343fc14cde64245c04d2c6965",
         "url": "https://api.github.com/repos/deeplearningunb/building-ann/commits/0f5262be8fbe694343fc14cde64245c04d2c6965"
        },
        "name": "IgorGabriel",
        "protected": false,
        "protection": {
         "enabled": false,
         "required_status_checks": {
          "contexts": [],
          "enforcement_level": "off"
         }
        },
        "protection_url": "https://api.github.com/repos/deeplearningunb/building-ann/branches/IgorGabriel/protection"
       },
       {
        "commit": {
         "sha": "c80a653d70de524d23c5b7feb81c0d5ebc9d6187",
         "url": "https://api.github.com/repos/deeplearningunb/building-ann/commits/c80a653d70de524d23c5b7feb81c0d5ebc9d6187"
        },
        "name": "IgorVeludo",
        "protected": false,
        "protection": {
         "enabled": false,
         "required_status_checks": {
          "contexts": [],
          "enforcement_level": "off"
         }
        },
        "protection_url": "https://api.github.com/repos/deeplearningunb/building-ann/branches/IgorVeludo/protection"
       },
       {
        "commit": {
         "sha": "59a6fe376c8f6f92dbc64bab50e2881a9165819b",
         "url": "https://api.github.com/repos/deeplearningunb/building-ann/commits/59a6fe376c8f6f92dbc64bab50e2881a9165819b"
        },
        "name": "IolaneAndrade",
        "protected": false,
        "protection": {
         "enabled": false,
         "required_status_checks": {
          "contexts": [],
          "enforcement_level": "off"
         }
        },
        "protection_url": "https://api.github.com/repos/deeplearningunb/building-ann/branches/IolaneAndrade/protection"
       },
       {
        "commit": {
         "sha": "dd67bba14bde8ddfefe5314e8e440950bea5a83b",
         "url": "https://api.github.com/repos/deeplearningunb/building-ann/commits/dd67bba14bde8ddfefe5314e8e440950bea5a83b"
        },
        "name": "JoaoMartins",
        "protected": false,
        "protection": {
         "enabled": false,
         "required_status_checks": {
          "contexts": [],
          "enforcement_level": "off"
         }
        },
        "protection_url": "https://api.github.com/repos/deeplearningunb/building-ann/branches/JoaoMartins/protection"
       },
       {
        "commit": {
         "sha": "f7e4dfcdce4bdd0398628074c54df2078b8126f8",
         "url": "https://api.github.com/repos/deeplearningunb/building-ann/commits/f7e4dfcdce4bdd0398628074c54df2078b8126f8"
        },
        "name": "LeonardoBarreiros",
        "protected": false,
        "protection": {
         "enabled": false,
         "required_status_checks": {
          "contexts": [],
          "enforcement_level": "off"
         }
        },
        "protection_url": "https://api.github.com/repos/deeplearningunb/building-ann/branches/LeonardoBarreiros/protection"
       },
       {
        "commit": {
         "sha": "e86c84e50d749573677febab52500ad3aec7d5d2",
         "url": "https://api.github.com/repos/deeplearningunb/building-ann/commits/e86c84e50d749573677febab52500ad3aec7d5d2"
        },
        "name": "Lucas_Siqueira",
        "protected": false,
        "protection": {
         "enabled": false,
         "required_status_checks": {
          "contexts": [],
          "enforcement_level": "off"
         }
        },
        "protection_url": "https://api.github.com/repos/deeplearningunb/building-ann/branches/Lucas_Siqueira/protection"
       },
       {
        "commit": {
         "sha": "fa3eec0f5ecfd1fbf1a92ad1507fe90bc06b8fa0",
         "url": "https://api.github.com/repos/deeplearningunb/building-ann/commits/fa3eec0f5ecfd1fbf1a92ad1507fe90bc06b8fa0"
        },
        "name": "LucasHiroshi",
        "protected": false,
        "protection": {
         "enabled": false,
         "required_status_checks": {
          "contexts": [],
          "enforcement_level": "off"
         }
        },
        "protection_url": "https://api.github.com/repos/deeplearningunb/building-ann/branches/LucasHiroshi/protection"
       },
       {
        "commit": {
         "sha": "fbaac79fcc542bf9c8d99bdd77ff9b385762d62b",
         "url": "https://api.github.com/repos/deeplearningunb/building-ann/commits/fbaac79fcc542bf9c8d99bdd77ff9b385762d62b"
        },
        "name": "LucasLermen",
        "protected": false,
        "protection": {
         "enabled": false,
         "required_status_checks": {
          "contexts": [],
          "enforcement_level": "off"
         }
        },
        "protection_url": "https://api.github.com/repos/deeplearningunb/building-ann/branches/LucasLermen/protection"
       },
       {
        "commit": {
         "sha": "e250379473171fb4573684344d78798f29f50476",
         "url": "https://api.github.com/repos/deeplearningunb/building-ann/commits/e250379473171fb4573684344d78798f29f50476"
        },
        "name": "LucasPenido",
        "protected": false,
        "protection": {
         "enabled": false,
         "required_status_checks": {
          "contexts": [],
          "enforcement_level": "off"
         }
        },
        "protection_url": "https://api.github.com/repos/deeplearningunb/building-ann/branches/LucasPenido/protection"
       },
       {
        "commit": {
         "sha": "dca6cf4fa152893be5afb3510196d5aff3497637",
         "url": "https://api.github.com/repos/deeplearningunb/building-ann/commits/dca6cf4fa152893be5afb3510196d5aff3497637"
        },
        "name": "MarcosCabeceira",
        "protected": false,
        "protection": {
         "enabled": false,
         "required_status_checks": {
          "contexts": [],
          "enforcement_level": "off"
         }
        },
        "protection_url": "https://api.github.com/repos/deeplearningunb/building-ann/branches/MarcosCabeceira/protection"
       },
       {
        "commit": {
         "sha": "ba141b166458515a3416ab215abdce01c019ebca",
         "url": "https://api.github.com/repos/deeplearningunb/building-ann/commits/ba141b166458515a3416ab215abdce01c019ebca"
        },
        "name": "MarthaDs",
        "protected": false,
        "protection": {
         "enabled": false,
         "required_status_checks": {
          "contexts": [],
          "enforcement_level": "off"
         }
        },
        "protection_url": "https://api.github.com/repos/deeplearningunb/building-ann/branches/MarthaDs/protection"
       },
       {
        "commit": {
         "sha": "31566580fd00d34fe4822c6c1dfc394ac407e125",
         "url": "https://api.github.com/repos/deeplearningunb/building-ann/commits/31566580fd00d34fe4822c6c1dfc394ac407e125"
        },
        "name": "MatheusCosta",
        "protected": false,
        "protection": {
         "enabled": false,
         "required_status_checks": {
          "contexts": [],
          "enforcement_level": "off"
         }
        },
        "protection_url": "https://api.github.com/repos/deeplearningunb/building-ann/branches/MatheusCosta/protection"
       },
       {
        "commit": {
         "sha": "7fcb60bba696920225483bd1d18fdfdae3f4e665",
         "url": "https://api.github.com/repos/deeplearningunb/building-ann/commits/7fcb60bba696920225483bd1d18fdfdae3f4e665"
        },
        "name": "MatheusRich",
        "protected": false,
        "protection": {
         "enabled": false,
         "required_status_checks": {
          "contexts": [],
          "enforcement_level": "off"
         }
        },
        "protection_url": "https://api.github.com/repos/deeplearningunb/building-ann/branches/MatheusRich/protection"
       },
       {
        "commit": {
         "sha": "5c11de4d04fb69d9bfd4e11ac9bba94366818855",
         "url": "https://api.github.com/repos/deeplearningunb/building-ann/commits/5c11de4d04fb69d9bfd4e11ac9bba94366818855"
        },
        "name": "NaiaraAndrade",
        "protected": false,
        "protection": {
         "enabled": false,
         "required_status_checks": {
          "contexts": [],
          "enforcement_level": "off"
         }
        },
        "protection_url": "https://api.github.com/repos/deeplearningunb/building-ann/branches/NaiaraAndrade/protection"
       },
       {
        "commit": {
         "sha": "e9014011ea51e1d8220780494aacc8b011413faa",
         "url": "https://api.github.com/repos/deeplearningunb/building-ann/commits/e9014011ea51e1d8220780494aacc8b011413faa"
        },
        "name": "PedroFeo",
        "protected": false,
        "protection": {
         "enabled": false,
         "required_status_checks": {
          "contexts": [],
          "enforcement_level": "off"
         }
        },
        "protection_url": "https://api.github.com/repos/deeplearningunb/building-ann/branches/PedroFeo/protection"
       },
       {
        "commit": {
         "sha": "98e1f7efb8794230aa22c4376d6e71dbfc28a3ba",
         "url": "https://api.github.com/repos/deeplearningunb/building-ann/commits/98e1f7efb8794230aa22c4376d6e71dbfc28a3ba"
        },
        "name": "Rdadamos",
        "protected": false,
        "protection": {
         "enabled": false,
         "required_status_checks": {
          "contexts": [],
          "enforcement_level": "off"
         }
        },
        "protection_url": "https://api.github.com/repos/deeplearningunb/building-ann/branches/Rdadamos/protection"
       },
       {
        "commit": {
         "sha": "4127d597ed8114985beb64264b3e05511ead78bb",
         "url": "https://api.github.com/repos/deeplearningunb/building-ann/commits/4127d597ed8114985beb64264b3e05511ead78bb"
        },
        "name": "Ronyell",
        "protected": false,
        "protection": {
         "enabled": false,
         "required_status_checks": {
          "contexts": [],
          "enforcement_level": "off"
         }
        },
        "protection_url": "https://api.github.com/repos/deeplearningunb/building-ann/branches/Ronyell/protection"
       },
       {
        "commit": {
         "sha": "b2237199639372cac598b5890627a5094d6547c1",
         "url": "https://api.github.com/repos/deeplearningunb/building-ann/commits/b2237199639372cac598b5890627a5094d6547c1"
        },
        "name": "TaynaraCarvalho_GabrielCarvalho",
        "protected": false,
        "protection": {
         "enabled": false,
         "required_status_checks": {
          "contexts": [],
          "enforcement_level": "off"
         }
        },
        "protection_url": "https://api.github.com/repos/deeplearningunb/building-ann/branches/TaynaraCarvalho_GabrielCarvalho/protection"
       },
       {
        "commit": {
         "sha": "d6d46d76c54a98839feb59ac46910c677accb2be",
         "url": "https://api.github.com/repos/deeplearningunb/building-ann/commits/d6d46d76c54a98839feb59ac46910c677accb2be"
        },
        "name": "ThalissonMelo",
        "protected": false,
        "protection": {
         "enabled": false,
         "required_status_checks": {
          "contexts": [],
          "enforcement_level": "off"
         }
        },
        "protection_url": "https://api.github.com/repos/deeplearningunb/building-ann/branches/ThalissonMelo/protection"
       },
       {
        "commit": {
         "sha": "8576ed3b936efd4ddf10bfcff81ed00e83a4059d",
         "url": "https://api.github.com/repos/deeplearningunb/building-ann/commits/8576ed3b936efd4ddf10bfcff81ed00e83a4059d"
        },
        "name": "VitorLeal",
        "protected": false,
        "protection": {
         "enabled": false,
         "required_status_checks": {
          "contexts": [],
          "enforcement_level": "off"
         }
        },
        "protection_url": "https://api.github.com/repos/deeplearningunb/building-ann/branches/VitorLeal/protection"
       },
       {
        "commit": {
         "sha": "6ef697b80ed36fc98934d76b9411b079d3f6bc5e",
         "url": "https://api.github.com/repos/deeplearningunb/building-ann/commits/6ef697b80ed36fc98934d76b9411b079d3f6bc5e"
        },
        "name": "alaxalves",
        "protected": false,
        "protection": {
         "enabled": false,
         "required_status_checks": {
          "contexts": [],
          "enforcement_level": "off"
         }
        },
        "protection_url": "https://api.github.com/repos/deeplearningunb/building-ann/branches/alaxalves/protection"
       },
       {
        "commit": {
         "sha": "735b0a8bf5934e2c51a584912885b99f09a0f7ef",
         "url": "https://api.github.com/repos/deeplearningunb/building-ann/commits/735b0a8bf5934e2c51a584912885b99f09a0f7ef"
        },
        "name": "andre-filho",
        "protected": false,
        "protection": {
         "enabled": false,
         "required_status_checks": {
          "contexts": [],
          "enforcement_level": "off"
         }
        },
        "protection_url": "https://api.github.com/repos/deeplearningunb/building-ann/branches/andre-filho/protection"
       },
       {
        "commit": {
         "sha": "59ff6356729d0b9096bcf3e4de59ed7dfae095ad",
         "url": "https://api.github.com/repos/deeplearningunb/building-ann/commits/59ff6356729d0b9096bcf3e4de59ed7dfae095ad"
        },
        "name": "andrew",
        "protected": false,
        "protection": {
         "enabled": false,
         "required_status_checks": {
          "contexts": [],
          "enforcement_level": "off"
         }
        },
        "protection_url": "https://api.github.com/repos/deeplearningunb/building-ann/branches/andrew/protection"
       },
       {
        "commit": {
         "sha": "ff01e8ffd200380799ef022df3e8e9a553d72167",
         "url": "https://api.github.com/repos/deeplearningunb/building-ann/commits/ff01e8ffd200380799ef022df3e8e9a553d72167"
        },
        "name": "bruna",
        "protected": false,
        "protection": {
         "enabled": false,
         "required_status_checks": {
          "contexts": [],
          "enforcement_level": "off"
         }
        },
        "protection_url": "https://api.github.com/repos/deeplearningunb/building-ann/branches/bruna/protection"
       },
       {
        "commit": {
         "sha": "a3844be7b12990fe49d5bdb4edef0eee3f05f4d7",
         "url": "https://api.github.com/repos/deeplearningunb/building-ann/commits/a3844be7b12990fe49d5bdb4edef0eee3f05f4d7"
        },
        "name": "brupas",
        "protected": false,
        "protection": {
         "enabled": false,
         "required_status_checks": {
          "contexts": [],
          "enforcement_level": "off"
         }
        },
        "protection_url": "https://api.github.com/repos/deeplearningunb/building-ann/branches/brupas/protection"
       },
       {
        "commit": {
         "sha": "cca72bc27f2448bc6a9595cd38a02ce2651548da",
         "url": "https://api.github.com/repos/deeplearningunb/building-ann/commits/cca72bc27f2448bc6a9595cd38a02ce2651548da"
        },
        "name": "caiovfernandes",
        "protected": false,
        "protection": {
         "enabled": false,
         "required_status_checks": {
          "contexts": [],
          "enforcement_level": "off"
         }
        },
        "protection_url": "https://api.github.com/repos/deeplearningunb/building-ann/branches/caiovfernandes/protection"
       },
       {
        "commit": {
         "sha": "31d3a1862a1152c6941a92339c0321719c210745",
         "url": "https://api.github.com/repos/deeplearningunb/building-ann/commits/31d3a1862a1152c6941a92339c0321719c210745"
        },
        "name": "carlos_caio",
        "protected": false,
        "protection": {
         "enabled": false,
         "required_status_checks": {
          "contexts": [],
          "enforcement_level": "off"
         }
        },
        "protection_url": "https://api.github.com/repos/deeplearningunb/building-ann/branches/carlos_caio/protection"
       },
       {
        "commit": {
         "sha": "b433c8e72ab07c7e39462900b0892372a837da9e",
         "url": "https://api.github.com/repos/deeplearningunb/building-ann/commits/b433c8e72ab07c7e39462900b0892372a837da9e"
        },
        "name": "clarissa",
        "protected": false,
        "protection": {
         "enabled": false,
         "required_status_checks": {
          "contexts": [],
          "enforcement_level": "off"
         }
        },
        "protection_url": "https://api.github.com/repos/deeplearningunb/building-ann/branches/clarissa/protection"
       },
       {
        "commit": {
         "sha": "098b7fda05dfea52aebb07e2bca6f473e362e581",
         "url": "https://api.github.com/repos/deeplearningunb/building-ann/commits/098b7fda05dfea52aebb07e2bca6f473e362e581"
        },
        "name": "cleber_castro",
        "protected": false,
        "protection": {
         "enabled": false,
         "required_status_checks": {
          "contexts": [],
          "enforcement_level": "off"
         }
        },
        "protection_url": "https://api.github.com/repos/deeplearningunb/building-ann/branches/cleber_castro/protection"
       },
       {
        "commit": {
         "sha": "bd04831214917288a56fb6a7daea5c1c546fc5f4",
         "url": "https://api.github.com/repos/deeplearningunb/building-ann/commits/bd04831214917288a56fb6a7daea5c1c546fc5f4"
        },
        "name": "deusdara",
        "protected": false,
        "protection": {
         "enabled": false,
         "required_status_checks": {
          "contexts": [],
          "enforcement_level": "off"
         }
        },
        "protection_url": "https://api.github.com/repos/deeplearningunb/building-ann/branches/deusdara/protection"
       },
       {
        "commit": {
         "sha": "bdc946b7d36af6ea9608619ea15eba9b987cf247",
         "url": "https://api.github.com/repos/deeplearningunb/building-ann/commits/bdc946b7d36af6ea9608619ea15eba9b987cf247"
        },
        "name": "diegodorgam",
        "protected": false,
        "protection": {
         "enabled": false,
         "required_status_checks": {
          "contexts": [],
          "enforcement_level": "off"
         }
        },
        "protection_url": "https://api.github.com/repos/deeplearningunb/building-ann/branches/diegodorgam/protection"
       },
       {
        "commit": {
         "sha": "28107b84c66b052d32ff214c5c9fb2f951f30cf0",
         "url": "https://api.github.com/repos/deeplearningunb/building-ann/commits/28107b84c66b052d32ff214c5c9fb2f951f30cf0"
        },
        "name": "felhar",
        "protected": false,
        "protection": {
         "enabled": false,
         "required_status_checks": {
          "contexts": [],
          "enforcement_level": "off"
         }
        },
        "protection_url": "https://api.github.com/repos/deeplearningunb/building-ann/branches/felhar/protection"
       },
       {
        "commit": {
         "sha": "49f480f309476a79f01b836ebc0f145c06bc89b4",
         "url": "https://api.github.com/repos/deeplearningunb/building-ann/commits/49f480f309476a79f01b836ebc0f145c06bc89b4"
        },
        "name": "felizolinha",
        "protected": false,
        "protection": {
         "enabled": false,
         "required_status_checks": {
          "contexts": [],
          "enforcement_level": "off"
         }
        },
        "protection_url": "https://api.github.com/repos/deeplearningunb/building-ann/branches/felizolinha/protection"
       },
       {
        "commit": {
         "sha": "dfd235a9c8f53f6a65733a0fb62f50b584262fd1",
         "url": "https://api.github.com/repos/deeplearningunb/building-ann/commits/dfd235a9c8f53f6a65733a0fb62f50b584262fd1"
        },
        "name": "fepas",
        "protected": false,
        "protection": {
         "enabled": false,
         "required_status_checks": {
          "contexts": [],
          "enforcement_level": "off"
         }
        },
        "protection_url": "https://api.github.com/repos/deeplearningunb/building-ann/branches/fepas/protection"
       },
       {
        "commit": {
         "sha": "480c445565cac35ad99f19cf911538e46bca6563",
         "url": "https://api.github.com/repos/deeplearningunb/building-ann/commits/480c445565cac35ad99f19cf911538e46bca6563"
        },
        "name": "fernando-aguilar",
        "protected": false,
        "protection": {
         "enabled": false,
         "required_status_checks": {
          "contexts": [],
          "enforcement_level": "off"
         }
        },
        "protection_url": "https://api.github.com/repos/deeplearningunb/building-ann/branches/fernando-aguilar/protection"
       },
       {
        "commit": {
         "sha": "047c0f84ce674b555b500343d31b9ee3c850295e",
         "url": "https://api.github.com/repos/deeplearningunb/building-ann/commits/047c0f84ce674b555b500343d31b9ee3c850295e"
        },
        "name": "filypsdias",
        "protected": false,
        "protection": {
         "enabled": false,
         "required_status_checks": {
          "contexts": [],
          "enforcement_level": "off"
         }
        },
        "protection_url": "https://api.github.com/repos/deeplearningunb/building-ann/branches/filypsdias/protection"
       },
       {
        "commit": {
         "sha": "904950657d371210b394d287336b5371345f63ac",
         "url": "https://api.github.com/repos/deeplearningunb/building-ann/commits/904950657d371210b394d287336b5371345f63ac"
        },
        "name": "gabrielalbino",
        "protected": false,
        "protection": {
         "enabled": false,
         "required_status_checks": {
          "contexts": [],
          "enforcement_level": "off"
         }
        },
        "protection_url": "https://api.github.com/repos/deeplearningunb/building-ann/branches/gabrielalbino/protection"
       },
       {
        "commit": {
         "sha": "c6823e187a0db9a0b67fb0e7533296b12a7e335f",
         "url": "https://api.github.com/repos/deeplearningunb/building-ann/commits/c6823e187a0db9a0b67fb0e7533296b12a7e335f"
        },
        "name": "gabrielfilipe",
        "protected": false,
        "protection": {
         "enabled": false,
         "required_status_checks": {
          "contexts": [],
          "enforcement_level": "off"
         }
        },
        "protection_url": "https://api.github.com/repos/deeplearningunb/building-ann/branches/gabrielfilipe/protection"
       },
       {
        "commit": {
         "sha": "3ba782d464553d7d18c0db8473a45d6700151e63",
         "url": "https://api.github.com/repos/deeplearningunb/building-ann/commits/3ba782d464553d7d18c0db8473a45d6700151e63"
        },
        "name": "gabrielziegler",
        "protected": false,
        "protection": {
         "enabled": false,
         "required_status_checks": {
          "contexts": [],
          "enforcement_level": "off"
         }
        },
        "protection_url": "https://api.github.com/repos/deeplearningunb/building-ann/branches/gabrielziegler/protection"
       },
       {
        "commit": {
         "sha": "d6801d09f67db35fe48c21b042d92efc7b1c0d11",
         "url": "https://api.github.com/repos/deeplearningunb/building-ann/commits/d6801d09f67db35fe48c21b042d92efc7b1c0d11"
        },
        "name": "guiaugusto",
        "protected": false,
        "protection": {
         "enabled": false,
         "required_status_checks": {
          "contexts": [],
          "enforcement_level": "off"
         }
        },
        "protection_url": "https://api.github.com/repos/deeplearningunb/building-ann/branches/guiaugusto/protection"
       },
       {
        "commit": {
         "sha": "0ef0152bb305d9f8656f181ffd773fd62a026f92",
         "url": "https://api.github.com/repos/deeplearningunb/building-ann/commits/0ef0152bb305d9f8656f181ffd773fd62a026f92"
        },
        "name": "guilherme-m",
        "protected": false,
        "protection": {
         "enabled": false,
         "required_status_checks": {
          "contexts": [],
          "enforcement_level": "off"
         }
        },
        "protection_url": "https://api.github.com/repos/deeplearningunb/building-ann/branches/guilherme-m/protection"
       },
       {
        "commit": {
         "sha": "8d6786494a1c0a0a62d1dfe05e1a021f498fff07",
         "url": "https://api.github.com/repos/deeplearningunb/building-ann/commits/8d6786494a1c0a0a62d1dfe05e1a021f498fff07"
        },
        "name": "guilherme-mendes",
        "protected": false,
        "protection": {
         "enabled": false,
         "required_status_checks": {
          "contexts": [],
          "enforcement_level": "off"
         }
        },
        "protection_url": "https://api.github.com/repos/deeplearningunb/building-ann/branches/guilherme-mendes/protection"
       },
       {
        "commit": {
         "sha": "d6801d09f67db35fe48c21b042d92efc7b1c0d11",
         "url": "https://api.github.com/repos/deeplearningunb/building-ann/commits/d6801d09f67db35fe48c21b042d92efc7b1c0d11"
        },
        "name": "guilherme-silva",
        "protected": false,
        "protection": {
         "enabled": false,
         "required_status_checks": {
          "contexts": [],
          "enforcement_level": "off"
         }
        },
        "protection_url": "https://api.github.com/repos/deeplearningunb/building-ann/branches/guilherme-silva/protection"
       },
       {
        "commit": {
         "sha": "3269ad6b5f2eb14b2132a348d1783f1807fa3c7d",
         "url": "https://api.github.com/repos/deeplearningunb/building-ann/commits/3269ad6b5f2eb14b2132a348d1783f1807fa3c7d"
        },
        "name": "guilherme_aguiar",
        "protected": false,
        "protection": {
         "enabled": false,
         "required_status_checks": {
          "contexts": [],
          "enforcement_level": "off"
         }
        },
        "protection_url": "https://api.github.com/repos/deeplearningunb/building-ann/branches/guilherme_aguiar/protection"
       },
       {
        "commit": {
         "sha": "bc74f08f49fec94534f6edae53898cf00f6852dc",
         "url": "https://api.github.com/repos/deeplearningunb/building-ann/commits/bc74f08f49fec94534f6edae53898cf00f6852dc"
        },
        "name": "gustavocarvalho1002",
        "protected": false,
        "protection": {
         "enabled": false,
         "required_status_checks": {
          "contexts": [],
          "enforcement_level": "off"
         }
        },
        "protection_url": "https://api.github.com/repos/deeplearningunb/building-ann/branches/gustavocarvalho1002/protection"
       },
       {
        "commit": {
         "sha": "717eaa7df384dfe8b8db92e4eb1626a26075834b",
         "url": "https://api.github.com/repos/deeplearningunb/building-ann/commits/717eaa7df384dfe8b8db92e4eb1626a26075834b"
        },
        "name": "hrodrich",
        "protected": false,
        "protection": {
         "enabled": false,
         "required_status_checks": {
          "contexts": [],
          "enforcement_level": "off"
         }
        },
        "protection_url": "https://api.github.com/repos/deeplearningunb/building-ann/branches/hrodrich/protection"
       },
       {
        "commit": {
         "sha": "a50b53c663598010315b84b7ac994cb3c39c8490",
         "url": "https://api.github.com/repos/deeplearningunb/building-ann/commits/a50b53c663598010315b84b7ac994cb3c39c8490"
        },
        "name": "icaro",
        "protected": false,
        "protection": {
         "enabled": false,
         "required_status_checks": {
          "contexts": [],
          "enforcement_level": "off"
         }
        },
        "protection_url": "https://api.github.com/repos/deeplearningunb/building-ann/branches/icaro/protection"
       },
       {
        "commit": {
         "sha": "5e8bf8ee14ab2a86b6722b0518c917d711274175",
         "url": "https://api.github.com/repos/deeplearningunb/building-ann/commits/5e8bf8ee14ab2a86b6722b0518c917d711274175"
        },
        "name": "indiara",
        "protected": false,
        "protection": {
         "enabled": false,
         "required_status_checks": {
          "contexts": [],
          "enforcement_level": "off"
         }
        },
        "protection_url": "https://api.github.com/repos/deeplearningunb/building-ann/branches/indiara/protection"
       },
       {
        "commit": {
         "sha": "59a6fe376c8f6f92dbc64bab50e2881a9165819b",
         "url": "https://api.github.com/repos/deeplearningunb/building-ann/commits/59a6fe376c8f6f92dbc64bab50e2881a9165819b"
        },
        "name": "iolane",
        "protected": false,
        "protection": {
         "enabled": false,
         "required_status_checks": {
          "contexts": [],
          "enforcement_level": "off"
         }
        },
        "protection_url": "https://api.github.com/repos/deeplearningunb/building-ann/branches/iolane/protection"
       },
       {
        "commit": {
         "sha": "29fb3b7af6f9045ad524a3d56a98cbd22b57f3fe",
         "url": "https://api.github.com/repos/deeplearningunb/building-ann/commits/29fb3b7af6f9045ad524a3d56a98cbd22b57f3fe"
        },
        "name": "joaohenriquepda",
        "protected": false,
        "protection": {
         "enabled": false,
         "required_status_checks": {
          "contexts": [],
          "enforcement_level": "off"
         }
        },
        "protection_url": "https://api.github.com/repos/deeplearningunb/building-ann/branches/joaohenriquepda/protection"
       },
       {
        "commit": {
         "sha": "824c3d5aedf453ab352a9b731d1bb8de239c29e7",
         "url": "https://api.github.com/repos/deeplearningunb/building-ann/commits/824c3d5aedf453ab352a9b731d1bb8de239c29e7"
        },
        "name": "joaovitorml",
        "protected": false,
        "protection": {
         "enabled": false,
         "required_status_checks": {
          "contexts": [],
          "enforcement_level": "off"
         }
        },
        "protection_url": "https://api.github.com/repos/deeplearningunb/building-ann/branches/joaovitorml/protection"
       },
       {
        "commit": {
         "sha": "a062e9274f6524e3a2b0b4efbd8e1715de160a9a",
         "url": "https://api.github.com/repos/deeplearningunb/building-ann/commits/a062e9274f6524e3a2b0b4efbd8e1715de160a9a"
        },
        "name": "jplpereira",
        "protected": false,
        "protection": {
         "enabled": false,
         "required_status_checks": {
          "contexts": [],
          "enforcement_level": "off"
         }
        },
        "protection_url": "https://api.github.com/repos/deeplearningunb/building-ann/branches/jplpereira/protection"
       },
       {
        "commit": {
         "sha": "56bbf1feb3127b49cfa1837b275fd964473d6e16",
         "url": "https://api.github.com/repos/deeplearningunb/building-ann/commits/56bbf1feb3127b49cfa1837b275fd964473d6e16"
        },
        "name": "jupyter",
        "protected": false,
        "protection": {
         "enabled": false,
         "required_status_checks": {
          "contexts": [],
          "enforcement_level": "off"
         }
        },
        "protection_url": "https://api.github.com/repos/deeplearningunb/building-ann/branches/jupyter/protection"
       },
       {
        "commit": {
         "sha": "89d9d7177f8e90a2f6d78514827c1c15c41bee46",
         "url": "https://api.github.com/repos/deeplearningunb/building-ann/commits/89d9d7177f8e90a2f6d78514827c1c15c41bee46"
        },
        "name": "lorrany",
        "protected": false,
        "protection": {
         "enabled": false,
         "required_status_checks": {
          "contexts": [],
          "enforcement_level": "off"
         }
        },
        "protection_url": "https://api.github.com/repos/deeplearningunb/building-ann/branches/lorrany/protection"
       },
       {
        "commit": {
         "sha": "3c744cbdcb35485da598df5eb23c3486d13773f4",
         "url": "https://api.github.com/repos/deeplearningunb/building-ann/commits/3c744cbdcb35485da598df5eb23c3486d13773f4"
        },
        "name": "lucas_costa",
        "protected": false,
        "protection": {
         "enabled": false,
         "required_status_checks": {
          "contexts": [],
          "enforcement_level": "off"
         }
        },
        "protection_url": "https://api.github.com/repos/deeplearningunb/building-ann/branches/lucas_costa/protection"
       },
       {
        "commit": {
         "sha": "dff7982642cbaae826fb6d75f2c98cc3f2340b59",
         "url": "https://api.github.com/repos/deeplearningunb/building-ann/commits/dff7982642cbaae826fb6d75f2c98cc3f2340b59"
        },
        "name": "lucasdutraf",
        "protected": false,
        "protection": {
         "enabled": false,
         "required_status_checks": {
          "contexts": [],
          "enforcement_level": "off"
         }
        },
        "protection_url": "https://api.github.com/repos/deeplearningunb/building-ann/branches/lucasdutraf/protection"
       },
       {
        "commit": {
         "sha": "9bedea0b50644ac1e387c7bbf18c96e537745f22",
         "url": "https://api.github.com/repos/deeplearningunb/building-ann/commits/9bedea0b50644ac1e387c7bbf18c96e537745f22"
        },
        "name": "lucasfcm9",
        "protected": false,
        "protection": {
         "enabled": false,
         "required_status_checks": {
          "contexts": [],
          "enforcement_level": "off"
         }
        },
        "protection_url": "https://api.github.com/repos/deeplearningunb/building-ann/branches/lucasfcm9/protection"
       },
       {
        "commit": {
         "sha": "dfd235a9c8f53f6a65733a0fb62f50b584262fd1",
         "url": "https://api.github.com/repos/deeplearningunb/building-ann/commits/dfd235a9c8f53f6a65733a0fb62f50b584262fd1"
        },
        "name": "lucasmartins",
        "protected": false,
        "protection": {
         "enabled": false,
         "required_status_checks": {
          "contexts": [],
          "enforcement_level": "off"
         }
        },
        "protection_url": "https://api.github.com/repos/deeplearningunb/building-ann/branches/lucasmartins/protection"
       },
       {
        "commit": {
         "sha": "5ea3894d17bd447f8cfa7b8b3a52bd76e0c280b8",
         "url": "https://api.github.com/repos/deeplearningunb/building-ann/commits/5ea3894d17bd447f8cfa7b8b3a52bd76e0c280b8"
        },
        "name": "lucianaribeiro",
        "protected": false,
        "protection": {
         "enabled": false,
         "required_status_checks": {
          "contexts": [],
          "enforcement_level": "off"
         }
        },
        "protection_url": "https://api.github.com/repos/deeplearningunb/building-ann/branches/lucianaribeiro/protection"
       },
       {
        "commit": {
         "sha": "7fd3908f2a239bb6f03b2e5b87947f4c7ae61e61",
         "url": "https://api.github.com/repos/deeplearningunb/building-ann/commits/7fd3908f2a239bb6f03b2e5b87947f4c7ae61e61"
        },
        "name": "lucianosz7",
        "protected": false,
        "protection": {
         "enabled": false,
         "required_status_checks": {
          "contexts": [],
          "enforcement_level": "off"
         }
        },
        "protection_url": "https://api.github.com/repos/deeplearningunb/building-ann/branches/lucianosz7/protection"
       },
       {
        "commit": {
         "sha": "f1e642d4b885d9758995a6482106060b02526fe5",
         "url": "https://api.github.com/repos/deeplearningunb/building-ann/commits/f1e642d4b885d9758995a6482106060b02526fe5"
        },
        "name": "luis-gustavo",
        "protected": false,
        "protection": {
         "enabled": false,
         "required_status_checks": {
          "contexts": [],
          "enforcement_level": "off"
         }
        },
        "protection_url": "https://api.github.com/repos/deeplearningunb/building-ann/branches/luis-gustavo/protection"
       },
       {
        "commit": {
         "sha": "fff7ec455670d6f4515edff7e69509b0c417b283",
         "url": "https://api.github.com/repos/deeplearningunb/building-ann/commits/fff7ec455670d6f4515edff7e69509b0c417b283"
        },
        "name": "marcorlk",
        "protected": false,
        "protection": {
         "enabled": false,
         "required_status_checks": {
          "contexts": [],
          "enforcement_level": "off"
         }
        },
        "protection_url": "https://api.github.com/repos/deeplearningunb/building-ann/branches/marcorlk/protection"
       },
       {
        "commit": {
         "sha": "a062e9274f6524e3a2b0b4efbd8e1715de160a9a",
         "url": "https://api.github.com/repos/deeplearningunb/building-ann/commits/a062e9274f6524e3a2b0b4efbd8e1715de160a9a"
        },
        "name": "master",
        "protected": false,
        "protection": {
         "enabled": false,
         "required_status_checks": {
          "contexts": [],
          "enforcement_level": "off"
         }
        },
        "protection_url": "https://api.github.com/repos/deeplearningunb/building-ann/branches/master/protection"
       },
       {
        "commit": {
         "sha": "5299f9541be4df7e3b990b6c51b5a1efe392f0c7",
         "url": "https://api.github.com/repos/deeplearningunb/building-ann/commits/5299f9541be4df7e3b990b6c51b5a1efe392f0c7"
        },
        "name": "mateusnr",
        "protected": false,
        "protection": {
         "enabled": false,
         "required_status_checks": {
          "contexts": [],
          "enforcement_level": "off"
         }
        },
        "protection_url": "https://api.github.com/repos/deeplearningunb/building-ann/branches/mateusnr/protection"
       },
       {
        "commit": {
         "sha": "bfc658d3f1b47f0dc1d10d07a69c6d266a24cb33",
         "url": "https://api.github.com/repos/deeplearningunb/building-ann/commits/bfc658d3f1b47f0dc1d10d07a69c6d266a24cb33"
        },
        "name": "matheus-rodrigues",
        "protected": false,
        "protection": {
         "enabled": false,
         "required_status_checks": {
          "contexts": [],
          "enforcement_level": "off"
         }
        },
        "protection_url": "https://api.github.com/repos/deeplearningunb/building-ann/branches/matheus-rodrigues/protection"
       },
       {
        "commit": {
         "sha": "e72ca6cc8c02de91854a8e14127417458e7e2a03",
         "url": "https://api.github.com/repos/deeplearningunb/building-ann/commits/e72ca6cc8c02de91854a8e14127417458e7e2a03"
        },
        "name": "matheus_batista",
        "protected": false,
        "protection": {
         "enabled": false,
         "required_status_checks": {
          "contexts": [],
          "enforcement_level": "off"
         }
        },
        "protection_url": "https://api.github.com/repos/deeplearningunb/building-ann/branches/matheus_batista/protection"
       },
       {
        "commit": {
         "sha": "e72ca6cc8c02de91854a8e14127417458e7e2a03",
         "url": "https://api.github.com/repos/deeplearningunb/building-ann/commits/e72ca6cc8c02de91854a8e14127417458e7e2a03"
        },
        "name": "matheusbsilva",
        "protected": false,
        "protection": {
         "enabled": false,
         "required_status_checks": {
          "contexts": [],
          "enforcement_level": "off"
         }
        },
        "protection_url": "https://api.github.com/repos/deeplearningunb/building-ann/branches/matheusbsilva/protection"
       },
       {
        "commit": {
         "sha": "d63de7e71de0c6935aab73a26a19456f4415ce0a",
         "url": "https://api.github.com/repos/deeplearningunb/building-ann/commits/d63de7e71de0c6935aab73a26a19456f4415ce0a"
        },
        "name": "omateusp",
        "protected": false,
        "protection": {
         "enabled": false,
         "required_status_checks": {
          "contexts": [],
          "enforcement_level": "off"
         }
        },
        "protection_url": "https://api.github.com/repos/deeplearningunb/building-ann/branches/omateusp/protection"
       },
       {
        "commit": {
         "sha": "a8afd5e385c0cce00f6fa3fc3a1bf64d960c77bd",
         "url": "https://api.github.com/repos/deeplearningunb/building-ann/commits/a8afd5e385c0cce00f6fa3fc3a1bf64d960c77bd"
        },
        "name": "rodrigol",
        "protected": false,
        "protection": {
         "enabled": false,
         "required_status_checks": {
          "contexts": [],
          "enforcement_level": "off"
         }
        },
        "protection_url": "https://api.github.com/repos/deeplearningunb/building-ann/branches/rodrigol/protection"
       },
       {
        "commit": {
         "sha": "66561f8ad2e8cddafd333678943b09bac15b8c2c",
         "url": "https://api.github.com/repos/deeplearningunb/building-ann/commits/66561f8ad2e8cddafd333678943b09bac15b8c2c"
        },
        "name": "sabino",
        "protected": false,
        "protection": {
         "enabled": false,
         "required_status_checks": {
          "contexts": [],
          "enforcement_level": "off"
         }
        },
        "protection_url": "https://api.github.com/repos/deeplearningunb/building-ann/branches/sabino/protection"
       },
       {
        "commit": {
         "sha": "dfd235a9c8f53f6a65733a0fb62f50b584262fd1",
         "url": "https://api.github.com/repos/deeplearningunb/building-ann/commits/dfd235a9c8f53f6a65733a0fb62f50b584262fd1"
        },
        "name": "sara",
        "protected": false,
        "protection": {
         "enabled": false,
         "required_status_checks": {
          "contexts": [],
          "enforcement_level": "off"
         }
        },
        "protection_url": "https://api.github.com/repos/deeplearningunb/building-ann/branches/sara/protection"
       },
       {
        "commit": {
         "sha": "99c0d734e7bd8f5af6363b9c4295a99de2e912fe",
         "url": "https://api.github.com/repos/deeplearningunb/building-ann/commits/99c0d734e7bd8f5af6363b9c4295a99de2e912fe"
        },
        "name": "sconetto",
        "protected": false,
        "protection": {
         "enabled": false,
         "required_status_checks": {
          "contexts": [],
          "enforcement_level": "off"
         }
        },
        "protection_url": "https://api.github.com/repos/deeplearningunb/building-ann/branches/sconetto/protection"
       },
       {
        "commit": {
         "sha": "d04ef5a66cb915e99e69b4f2d0d330856d185c73",
         "url": "https://api.github.com/repos/deeplearningunb/building-ann/commits/d04ef5a66cb915e99e69b4f2d0d330856d185c73"
        },
        "name": "stefania",
        "protected": false,
        "protection": {
         "enabled": false,
         "required_status_checks": {
          "contexts": [],
          "enforcement_level": "off"
         }
        },
        "protection_url": "https://api.github.com/repos/deeplearningunb/building-ann/branches/stefania/protection"
       },
       {
        "commit": {
         "sha": "cca5cc012faa379569fb67322c8ab85ec067b4f3",
         "url": "https://api.github.com/repos/deeplearningunb/building-ann/commits/cca5cc012faa379569fb67322c8ab85ec067b4f3"
        },
        "name": "tayh",
        "protected": false,
        "protection": {
         "enabled": false,
         "required_status_checks": {
          "contexts": [],
          "enforcement_level": "off"
         }
        },
        "protection_url": "https://api.github.com/repos/deeplearningunb/building-ann/branches/tayh/protection"
       },
       {
        "commit": {
         "sha": "f676af7ec431773aa4d01829ac51e3fccbf814ce",
         "url": "https://api.github.com/repos/deeplearningunb/building-ann/commits/f676af7ec431773aa4d01829ac51e3fccbf814ce"
        },
        "name": "thiago_lima",
        "protected": false,
        "protection": {
         "enabled": false,
         "required_status_checks": {
          "contexts": [],
          "enforcement_level": "off"
         }
        },
        "protection_url": "https://api.github.com/repos/deeplearningunb/building-ann/branches/thiago_lima/protection"
       },
       {
        "commit": {
         "sha": "082abd3864de34dfc0a2bde1a62ee2a9ec91efe9",
         "url": "https://api.github.com/repos/deeplearningunb/building-ann/commits/082abd3864de34dfc0a2bde1a62ee2a9ec91efe9"
        },
        "name": "victor_hugo_lopes_mota",
        "protected": false,
        "protection": {
         "enabled": false,
         "required_status_checks": {
          "contexts": [],
          "enforcement_level": "off"
         }
        },
        "protection_url": "https://api.github.com/repos/deeplearningunb/building-ann/branches/victor_hugo_lopes_mota/protection"
       },
       {
        "commit": {
         "sha": "b4350932ac92b76b17a2e2632615ec61242caf6d",
         "url": "https://api.github.com/repos/deeplearningunb/building-ann/commits/b4350932ac92b76b17a2e2632615ec61242caf6d"
        },
        "name": "victor_hugo",
        "protected": false,
        "protection": {
         "enabled": false,
         "required_status_checks": {
          "contexts": [],
          "enforcement_level": "off"
         }
        },
        "protection_url": "https://api.github.com/repos/deeplearningunb/building-ann/branches/victor_hugo/protection"
       },
       {
        "commit": {
         "sha": "d496ed2dd1992519423eb892922394fc157cb8f1",
         "url": "https://api.github.com/repos/deeplearningunb/building-ann/commits/d496ed2dd1992519423eb892922394fc157cb8f1"
        },
        "name": "victorcmoura",
        "protected": false,
        "protection": {
         "enabled": false,
         "required_status_checks": {
          "contexts": [],
          "enforcement_level": "off"
         }
        },
        "protection_url": "https://api.github.com/repos/deeplearningunb/building-ann/branches/victorcmoura/protection"
       },
       {
        "commit": {
         "sha": "af47b32c6fe4ff53f77d5672198b9c273e6df555",
         "url": "https://api.github.com/repos/deeplearningunb/building-ann/commits/af47b32c6fe4ff53f77d5672198b9c273e6df555"
        },
        "name": "vinicius_rodrigues",
        "protected": false,
        "protection": {
         "enabled": false,
         "required_status_checks": {
          "contexts": [],
          "enforcement_level": "off"
         }
        },
        "protection_url": "https://api.github.com/repos/deeplearningunb/building-ann/branches/vinicius_rodrigues/protection"
       },
       {
        "commit": {
         "sha": "791099c6c09aa9776add8859e3e08349b3e41052",
         "url": "https://api.github.com/repos/deeplearningunb/building-ann/commits/791099c6c09aa9776add8859e3e08349b3e41052"
        },
        "name": "vitorfalcao",
        "protected": false,
        "protection": {
         "enabled": false,
         "required_status_checks": {
          "contexts": [],
          "enforcement_level": "off"
         }
        },
        "protection_url": "https://api.github.com/repos/deeplearningunb/building-ann/branches/vitorfalcao/protection"
       },
       {
        "commit": {
         "sha": "a1c45f6dc327066f631be3eb015ed6e6945bc5fd",
         "url": "https://api.github.com/repos/deeplearningunb/building-ann/commits/a1c45f6dc327066f631be3eb015ed6e6945bc5fd"
        },
        "name": "zarbielli",
        "protected": false,
        "protection": {
         "enabled": false,
         "required_status_checks": {
          "contexts": [],
          "enforcement_level": "off"
         }
        },
        "protection_url": "https://api.github.com/repos/deeplearningunb/building-ann/branches/zarbielli/protection"
       }
      ],
      "text/plain": [
       "<IPython.core.display.JSON object>"
      ]
     },
     "execution_count": 1,
     "metadata": {
      "application/json": {
       "expanded": false,
       "root": "root"
      }
     },
     "output_type": "execute_result"
    }
   ],
   "source": [
    "import requests\n",
    "from IPython.display import JSON\n",
    "\n",
    "token = 'meu-personal-token'\n",
    "url = 'https://api.github.com/repos/deeplearningunb/building-ann/branches?per_page=500'\n",
    "headers = {\n",
    "    \"Authorization\": \"Token {}\".format(token)\n",
    "}\n",
    "\n",
    "res = requests.get(url,headers=headers)\n",
    "JSON(res.json())"
   ]
  },
  {
   "cell_type": "code",
   "execution_count": 2,
   "metadata": {},
   "outputs": [
    {
     "data": {
      "text/html": [
       "<div>\n",
       "<style scoped>\n",
       "    .dataframe tbody tr th:only-of-type {\n",
       "        vertical-align: middle;\n",
       "    }\n",
       "\n",
       "    .dataframe tbody tr th {\n",
       "        vertical-align: top;\n",
       "    }\n",
       "\n",
       "    .dataframe thead th {\n",
       "        text-align: right;\n",
       "    }\n",
       "</style>\n",
       "<table border=\"1\" class=\"dataframe\">\n",
       "  <thead>\n",
       "    <tr style=\"text-align: right;\">\n",
       "      <th></th>\n",
       "      <th>author</th>\n",
       "      <th>files</th>\n",
       "      <th>name</th>\n",
       "      <th>url</th>\n",
       "    </tr>\n",
       "  </thead>\n",
       "  <tbody>\n",
       "    <tr>\n",
       "      <th>0</th>\n",
       "      <td>Mexazonic</td>\n",
       "      <td>README.md -2 +65\\nann.py -3 +23</td>\n",
       "      <td>Bruno_Duarte</td>\n",
       "      <td>https://api.github.com/repos/deeplearningunb/b...</td>\n",
       "    </tr>\n",
       "    <tr>\n",
       "      <th>1</th>\n",
       "      <td>byronkamal</td>\n",
       "      <td>evaluating_improving_tuning.ipynb -0 +2024</td>\n",
       "      <td>ByronKamal</td>\n",
       "      <td>https://api.github.com/repos/deeplearningunb/b...</td>\n",
       "    </tr>\n",
       "    <tr>\n",
       "      <th>2</th>\n",
       "      <td>danilow200</td>\n",
       "      <td>ArtificialNeuralNetwork.ipynb -420 +558</td>\n",
       "      <td>Danilo_Domingo</td>\n",
       "      <td>https://api.github.com/repos/deeplearningunb/b...</td>\n",
       "    </tr>\n",
       "    <tr>\n",
       "      <th>3</th>\n",
       "      <td>davialvb</td>\n",
       "      <td>ArtificialNeuralNetwork.ipynb -102 +65981</td>\n",
       "      <td>DaviAlves</td>\n",
       "      <td>https://api.github.com/repos/deeplearningunb/b...</td>\n",
       "    </tr>\n",
       "    <tr>\n",
       "      <th>4</th>\n",
       "      <td>eduardonunes2525</td>\n",
       "      <td>ArtificialNeuralNetwork.ipynb -82 +8682\\nREADM...</td>\n",
       "      <td>EduardoNunes</td>\n",
       "      <td>https://api.github.com/repos/deeplearningunb/b...</td>\n",
       "    </tr>\n",
       "  </tbody>\n",
       "</table>\n",
       "</div>"
      ],
      "text/plain": [
       "             author                                              files  \\\n",
       "0         Mexazonic                    README.md -2 +65\\nann.py -3 +23   \n",
       "1        byronkamal         evaluating_improving_tuning.ipynb -0 +2024   \n",
       "2        danilow200            ArtificialNeuralNetwork.ipynb -420 +558   \n",
       "3          davialvb          ArtificialNeuralNetwork.ipynb -102 +65981   \n",
       "4  eduardonunes2525  ArtificialNeuralNetwork.ipynb -82 +8682\\nREADM...   \n",
       "\n",
       "             name                                                url  \n",
       "0    Bruno_Duarte  https://api.github.com/repos/deeplearningunb/b...  \n",
       "1      ByronKamal  https://api.github.com/repos/deeplearningunb/b...  \n",
       "2  Danilo_Domingo  https://api.github.com/repos/deeplearningunb/b...  \n",
       "3       DaviAlves  https://api.github.com/repos/deeplearningunb/b...  \n",
       "4    EduardoNunes  https://api.github.com/repos/deeplearningunb/b...  "
      ]
     },
     "execution_count": 2,
     "metadata": {},
     "output_type": "execute_result"
    }
   ],
   "source": [
    "import requests\n",
    "\n",
    "url = 'https://api.github.com/repos/deeplearningunb/building-ann/branches?per_page=500'\n",
    "\n",
    "headers = {\n",
    "    \"Authorization\": \"Token {}\".format(token)\n",
    "}\n",
    "\n",
    "res = requests.get(url,headers=headers)\n",
    "\n",
    "tasks = []\n",
    "\n",
    "for branch in res.json():\n",
    "#     print(branch['name'],\"\\t\",branch['commit']['url'])\n",
    "    commit = requests.get(branch['commit']['url'],headers=headers)\n",
    "    if commit.json()['author'] != None:\n",
    "        author = commit.json()['author']['login']\n",
    "#         print('\\t',author)\n",
    "        files = \"\"\n",
    "        for file in commit.json()['files']:\n",
    "            filename = file['filename']\n",
    "            additions = file['additions']\n",
    "            deletions = file['deletions']\n",
    "            changes = \"-{} +{}\".format(deletions,additions)\n",
    "#             print('\\t\\t',filename,changes)\n",
    "            files = files + filename + \" \" + changes + \"\\n\"\n",
    "        \n",
    "        tasks.append({'name':branch['name'],'url': branch['commit']['url'],'author':author,'files':files.strip()})\n",
    "\n",
    "import pandas as pd\n",
    "\n",
    "df1 = pd.DataFrame(tasks)\n",
    "df1.to_csv('tarefa1.csv',index=False)\n",
    "df1.head()\n"
   ]
  },
  {
   "cell_type": "code",
   "execution_count": 3,
   "metadata": {},
   "outputs": [
    {
     "data": {
      "text/html": [
       "<div>\n",
       "<style scoped>\n",
       "    .dataframe tbody tr th:only-of-type {\n",
       "        vertical-align: middle;\n",
       "    }\n",
       "\n",
       "    .dataframe tbody tr th {\n",
       "        vertical-align: top;\n",
       "    }\n",
       "\n",
       "    .dataframe thead th {\n",
       "        text-align: right;\n",
       "    }\n",
       "</style>\n",
       "<table border=\"1\" class=\"dataframe\">\n",
       "  <thead>\n",
       "    <tr style=\"text-align: right;\">\n",
       "      <th></th>\n",
       "      <th>author</th>\n",
       "      <th>files</th>\n",
       "      <th>name</th>\n",
       "      <th>url</th>\n",
       "    </tr>\n",
       "  </thead>\n",
       "  <tbody>\n",
       "    <tr>\n",
       "      <th>0</th>\n",
       "      <td>AlGouvea</td>\n",
       "      <td>ConvolutionalNeuralNetworks.ipynb -1120 +163</td>\n",
       "      <td>AlGouvea</td>\n",
       "      <td>https://api.github.com/repos/deeplearningunb/b...</td>\n",
       "    </tr>\n",
       "    <tr>\n",
       "      <th>1</th>\n",
       "      <td>Bruno-Felix</td>\n",
       "      <td>ConvolutionalNeuralNetworks.ipynb -1142 +59</td>\n",
       "      <td>Bruno-Felix</td>\n",
       "      <td>https://api.github.com/repos/deeplearningunb/b...</td>\n",
       "    </tr>\n",
       "    <tr>\n",
       "      <th>2</th>\n",
       "      <td>Mexazonic</td>\n",
       "      <td>README.md -2 +4</td>\n",
       "      <td>Bruno_Duarte</td>\n",
       "      <td>https://api.github.com/repos/deeplearningunb/b...</td>\n",
       "    </tr>\n",
       "    <tr>\n",
       "      <th>3</th>\n",
       "      <td>byronkamal</td>\n",
       "      <td>cnn.ipynb -0 +296\\nrequirements.txt -2 +2</td>\n",
       "      <td>ByronKamal</td>\n",
       "      <td>https://api.github.com/repos/deeplearningunb/b...</td>\n",
       "    </tr>\n",
       "    <tr>\n",
       "      <th>4</th>\n",
       "      <td>eduardonunes2525</td>\n",
       "      <td>ConvolutionalNeuralNetworks.ipynb -1159 +80\\nc...</td>\n",
       "      <td>EduardoNunes</td>\n",
       "      <td>https://api.github.com/repos/deeplearningunb/b...</td>\n",
       "    </tr>\n",
       "    <tr>\n",
       "      <th>5</th>\n",
       "      <td>EzequielDeOliveira</td>\n",
       "      <td>cnn.ipynb -0 +259\\ncnn.py -0 +3</td>\n",
       "      <td>Ezequiel</td>\n",
       "      <td>https://api.github.com/repos/deeplearningunb/b...</td>\n",
       "    </tr>\n",
       "    <tr>\n",
       "      <th>6</th>\n",
       "      <td>fellipe-araujo</td>\n",
       "      <td>cnn.ipynb -0 +256</td>\n",
       "      <td>FellipeAraujo</td>\n",
       "      <td>https://api.github.com/repos/deeplearningunb/b...</td>\n",
       "    </tr>\n",
       "    <tr>\n",
       "      <th>7</th>\n",
       "      <td>Gabrielle-Ribeiro</td>\n",
       "      <td>ConvolutionalNeuralNetworks.ipynb -37 +71</td>\n",
       "      <td>GabrielleRibeiro</td>\n",
       "      <td>https://api.github.com/repos/deeplearningunb/b...</td>\n",
       "    </tr>\n",
       "    <tr>\n",
       "      <th>8</th>\n",
       "      <td>gleal17</td>\n",
       "      <td>cnn(atividade).ipynb -0 +321\\nmodel_plot.png -...</td>\n",
       "      <td>GuilhermeLeal</td>\n",
       "      <td>https://api.github.com/repos/deeplearningunb/b...</td>\n",
       "    </tr>\n",
       "    <tr>\n",
       "      <th>9</th>\n",
       "      <td>igor-gme</td>\n",
       "      <td>Building_cnn.ipynb -0 +528</td>\n",
       "      <td>IgorGabriel</td>\n",
       "      <td>https://api.github.com/repos/deeplearningunb/b...</td>\n",
       "    </tr>\n",
       "    <tr>\n",
       "      <th>10</th>\n",
       "      <td>IgorVeludo</td>\n",
       "      <td>convolutional_neural_networks.ipynb -0 +296</td>\n",
       "      <td>IgorVeludo</td>\n",
       "      <td>https://api.github.com/repos/deeplearningunb/b...</td>\n",
       "    </tr>\n",
       "    <tr>\n",
       "      <th>11</th>\n",
       "      <td>IolaneAndrade</td>\n",
       "      <td>ConvolutionalNeuralNetworks.ipynb -1126 +118\\n...</td>\n",
       "      <td>IolaneAndrade</td>\n",
       "      <td>https://api.github.com/repos/deeplearningunb/b...</td>\n",
       "    </tr>\n",
       "    <tr>\n",
       "      <th>12</th>\n",
       "      <td>leossb36</td>\n",
       "      <td>ConvolutionalNeuralNetworks.ipynb -1124 +92</td>\n",
       "      <td>LeonardoBarreiros</td>\n",
       "      <td>https://api.github.com/repos/deeplearningunb/b...</td>\n",
       "    </tr>\n",
       "    <tr>\n",
       "      <th>13</th>\n",
       "      <td>Hiroshi18</td>\n",
       "      <td>cnn.ipynb -76 +12</td>\n",
       "      <td>LucasHorinouchi</td>\n",
       "      <td>https://api.github.com/repos/deeplearningunb/b...</td>\n",
       "    </tr>\n",
       "    <tr>\n",
       "      <th>14</th>\n",
       "      <td>LucasPenido</td>\n",
       "      <td>ConvolutionalNeuralNetworks.ipynb -1149 +112\\n...</td>\n",
       "      <td>LucasPenido</td>\n",
       "      <td>https://api.github.com/repos/deeplearningunb/b...</td>\n",
       "    </tr>\n",
       "    <tr>\n",
       "      <th>15</th>\n",
       "      <td>MarthaDs</td>\n",
       "      <td>ConvolutionalNeuralNetworks.ipynb -2 +21</td>\n",
       "      <td>MarthaDs</td>\n",
       "      <td>https://api.github.com/repos/deeplearningunb/b...</td>\n",
       "    </tr>\n",
       "    <tr>\n",
       "      <th>16</th>\n",
       "      <td>naiieandrade</td>\n",
       "      <td>cnn.ipynb -57 +131</td>\n",
       "      <td>MatheusBatista_NaiaraAndrade</td>\n",
       "      <td>https://api.github.com/repos/deeplearningunb/b...</td>\n",
       "    </tr>\n",
       "    <tr>\n",
       "      <th>17</th>\n",
       "      <td>matheusherique</td>\n",
       "      <td>ConvolutionalNeuralNetworks.ipynb -1137 +90</td>\n",
       "      <td>MatheusCosta</td>\n",
       "      <td>https://api.github.com/repos/deeplearningunb/b...</td>\n",
       "    </tr>\n",
       "    <tr>\n",
       "      <th>18</th>\n",
       "      <td>guilhesme23</td>\n",
       "      <td>dataset/single_prediction/predict_data/1.jpeg ...</td>\n",
       "      <td>PedroFeo_GuilhermeMarques</td>\n",
       "      <td>https://api.github.com/repos/deeplearningunb/b...</td>\n",
       "    </tr>\n",
       "    <tr>\n",
       "      <th>19</th>\n",
       "      <td>RodrigoTCLima</td>\n",
       "      <td>cnn2.py -0 +73</td>\n",
       "      <td>RodrigoLima</td>\n",
       "      <td>https://api.github.com/repos/deeplearningunb/b...</td>\n",
       "    </tr>\n",
       "    <tr>\n",
       "      <th>20</th>\n",
       "      <td>Ronyell</td>\n",
       "      <td>ConvolutionalNeuralNetworks.ipynb -1138 +263</td>\n",
       "      <td>Ronyell</td>\n",
       "      <td>https://api.github.com/repos/deeplearningunb/b...</td>\n",
       "    </tr>\n",
       "    <tr>\n",
       "      <th>21</th>\n",
       "      <td>GabrielOak</td>\n",
       "      <td>cnn.ipynb -0 +171</td>\n",
       "      <td>TaynaraCarvalho_GabrielCarvalho</td>\n",
       "      <td>https://api.github.com/repos/deeplearningunb/b...</td>\n",
       "    </tr>\n",
       "    <tr>\n",
       "      <th>22</th>\n",
       "      <td>vitorl-s</td>\n",
       "      <td>ConvolutionalNeuralNetworks.ipynb -1126 +141</td>\n",
       "      <td>VitorLeal</td>\n",
       "      <td>https://api.github.com/repos/deeplearningunb/b...</td>\n",
       "    </tr>\n",
       "    <tr>\n",
       "      <th>23</th>\n",
       "      <td>andre-filho</td>\n",
       "      <td>.vscode/settings.json -0 +3\\nConvolutionalNeur...</td>\n",
       "      <td>andre-filho</td>\n",
       "      <td>https://api.github.com/repos/deeplearningunb/b...</td>\n",
       "    </tr>\n",
       "    <tr>\n",
       "      <th>24</th>\n",
       "      <td>andrewlucasgs</td>\n",
       "      <td>CatOrDog.ipynb -1 +5</td>\n",
       "      <td>andrew</td>\n",
       "      <td>https://api.github.com/repos/deeplearningunb/b...</td>\n",
       "    </tr>\n",
       "    <tr>\n",
       "      <th>25</th>\n",
       "      <td>caiovfernandes</td>\n",
       "      <td>ConvolutionalNeuralNetworks.ipynb -2 +2</td>\n",
       "      <td>caiovfernandes</td>\n",
       "      <td>https://api.github.com/repos/deeplearningunb/b...</td>\n",
       "    </tr>\n",
       "    <tr>\n",
       "      <th>26</th>\n",
       "      <td>cjjcastro</td>\n",
       "      <td>second_cnn.ipynb -0 +213</td>\n",
       "      <td>cleber_castro</td>\n",
       "      <td>https://api.github.com/repos/deeplearningunb/b...</td>\n",
       "    </tr>\n",
       "    <tr>\n",
       "      <th>27</th>\n",
       "      <td>clarissalimab</td>\n",
       "      <td>cnn-cacau-or-arya.ipynb -0 +251\\ndataset/singl...</td>\n",
       "      <td>felipe-clarissa</td>\n",
       "      <td>https://api.github.com/repos/deeplearningunb/b...</td>\n",
       "    </tr>\n",
       "    <tr>\n",
       "      <th>28</th>\n",
       "      <td>Felizolinha</td>\n",
       "      <td>ConvolutionalNeuralNetworks.ipynb -1155 +207\\n...</td>\n",
       "      <td>felizolinha</td>\n",
       "      <td>https://api.github.com/repos/deeplearningunb/b...</td>\n",
       "    </tr>\n",
       "    <tr>\n",
       "      <th>29</th>\n",
       "      <td>filypsdias</td>\n",
       "      <td>ConvolutionalNeuralNetworks.ipynb -1150 +85</td>\n",
       "      <td>filypsdias</td>\n",
       "      <td>https://api.github.com/repos/deeplearningunb/b...</td>\n",
       "    </tr>\n",
       "  </tbody>\n",
       "</table>\n",
       "</div>"
      ],
      "text/plain": [
       "                author                                              files  \\\n",
       "0             AlGouvea       ConvolutionalNeuralNetworks.ipynb -1120 +163   \n",
       "1          Bruno-Felix        ConvolutionalNeuralNetworks.ipynb -1142 +59   \n",
       "2            Mexazonic                                    README.md -2 +4   \n",
       "3           byronkamal          cnn.ipynb -0 +296\\nrequirements.txt -2 +2   \n",
       "4     eduardonunes2525  ConvolutionalNeuralNetworks.ipynb -1159 +80\\nc...   \n",
       "5   EzequielDeOliveira                    cnn.ipynb -0 +259\\ncnn.py -0 +3   \n",
       "6       fellipe-araujo                                  cnn.ipynb -0 +256   \n",
       "7    Gabrielle-Ribeiro          ConvolutionalNeuralNetworks.ipynb -37 +71   \n",
       "8              gleal17  cnn(atividade).ipynb -0 +321\\nmodel_plot.png -...   \n",
       "9             igor-gme                         Building_cnn.ipynb -0 +528   \n",
       "10          IgorVeludo        convolutional_neural_networks.ipynb -0 +296   \n",
       "11       IolaneAndrade  ConvolutionalNeuralNetworks.ipynb -1126 +118\\n...   \n",
       "12            leossb36        ConvolutionalNeuralNetworks.ipynb -1124 +92   \n",
       "13           Hiroshi18                                  cnn.ipynb -76 +12   \n",
       "14         LucasPenido  ConvolutionalNeuralNetworks.ipynb -1149 +112\\n...   \n",
       "15            MarthaDs           ConvolutionalNeuralNetworks.ipynb -2 +21   \n",
       "16        naiieandrade                                 cnn.ipynb -57 +131   \n",
       "17      matheusherique        ConvolutionalNeuralNetworks.ipynb -1137 +90   \n",
       "18         guilhesme23  dataset/single_prediction/predict_data/1.jpeg ...   \n",
       "19       RodrigoTCLima                                     cnn2.py -0 +73   \n",
       "20             Ronyell       ConvolutionalNeuralNetworks.ipynb -1138 +263   \n",
       "21          GabrielOak                                  cnn.ipynb -0 +171   \n",
       "22            vitorl-s       ConvolutionalNeuralNetworks.ipynb -1126 +141   \n",
       "23         andre-filho  .vscode/settings.json -0 +3\\nConvolutionalNeur...   \n",
       "24       andrewlucasgs                               CatOrDog.ipynb -1 +5   \n",
       "25      caiovfernandes            ConvolutionalNeuralNetworks.ipynb -2 +2   \n",
       "26           cjjcastro                           second_cnn.ipynb -0 +213   \n",
       "27       clarissalimab  cnn-cacau-or-arya.ipynb -0 +251\\ndataset/singl...   \n",
       "28         Felizolinha  ConvolutionalNeuralNetworks.ipynb -1155 +207\\n...   \n",
       "29          filypsdias        ConvolutionalNeuralNetworks.ipynb -1150 +85   \n",
       "\n",
       "                               name  \\\n",
       "0                          AlGouvea   \n",
       "1                       Bruno-Felix   \n",
       "2                      Bruno_Duarte   \n",
       "3                        ByronKamal   \n",
       "4                      EduardoNunes   \n",
       "5                          Ezequiel   \n",
       "6                     FellipeAraujo   \n",
       "7                  GabrielleRibeiro   \n",
       "8                     GuilhermeLeal   \n",
       "9                       IgorGabriel   \n",
       "10                       IgorVeludo   \n",
       "11                    IolaneAndrade   \n",
       "12                LeonardoBarreiros   \n",
       "13                  LucasHorinouchi   \n",
       "14                      LucasPenido   \n",
       "15                         MarthaDs   \n",
       "16     MatheusBatista_NaiaraAndrade   \n",
       "17                     MatheusCosta   \n",
       "18        PedroFeo_GuilhermeMarques   \n",
       "19                      RodrigoLima   \n",
       "20                          Ronyell   \n",
       "21  TaynaraCarvalho_GabrielCarvalho   \n",
       "22                        VitorLeal   \n",
       "23                      andre-filho   \n",
       "24                           andrew   \n",
       "25                   caiovfernandes   \n",
       "26                    cleber_castro   \n",
       "27                  felipe-clarissa   \n",
       "28                      felizolinha   \n",
       "29                       filypsdias   \n",
       "\n",
       "                                                  url  \n",
       "0   https://api.github.com/repos/deeplearningunb/b...  \n",
       "1   https://api.github.com/repos/deeplearningunb/b...  \n",
       "2   https://api.github.com/repos/deeplearningunb/b...  \n",
       "3   https://api.github.com/repos/deeplearningunb/b...  \n",
       "4   https://api.github.com/repos/deeplearningunb/b...  \n",
       "5   https://api.github.com/repos/deeplearningunb/b...  \n",
       "6   https://api.github.com/repos/deeplearningunb/b...  \n",
       "7   https://api.github.com/repos/deeplearningunb/b...  \n",
       "8   https://api.github.com/repos/deeplearningunb/b...  \n",
       "9   https://api.github.com/repos/deeplearningunb/b...  \n",
       "10  https://api.github.com/repos/deeplearningunb/b...  \n",
       "11  https://api.github.com/repos/deeplearningunb/b...  \n",
       "12  https://api.github.com/repos/deeplearningunb/b...  \n",
       "13  https://api.github.com/repos/deeplearningunb/b...  \n",
       "14  https://api.github.com/repos/deeplearningunb/b...  \n",
       "15  https://api.github.com/repos/deeplearningunb/b...  \n",
       "16  https://api.github.com/repos/deeplearningunb/b...  \n",
       "17  https://api.github.com/repos/deeplearningunb/b...  \n",
       "18  https://api.github.com/repos/deeplearningunb/b...  \n",
       "19  https://api.github.com/repos/deeplearningunb/b...  \n",
       "20  https://api.github.com/repos/deeplearningunb/b...  \n",
       "21  https://api.github.com/repos/deeplearningunb/b...  \n",
       "22  https://api.github.com/repos/deeplearningunb/b...  \n",
       "23  https://api.github.com/repos/deeplearningunb/b...  \n",
       "24  https://api.github.com/repos/deeplearningunb/b...  \n",
       "25  https://api.github.com/repos/deeplearningunb/b...  \n",
       "26  https://api.github.com/repos/deeplearningunb/b...  \n",
       "27  https://api.github.com/repos/deeplearningunb/b...  \n",
       "28  https://api.github.com/repos/deeplearningunb/b...  \n",
       "29  https://api.github.com/repos/deeplearningunb/b...  "
      ]
     },
     "execution_count": 3,
     "metadata": {},
     "output_type": "execute_result"
    }
   ],
   "source": [
    "# Task 3\n",
    "\n",
    "import requests\n",
    "\n",
    "url = 'https://api.github.com/repos/deeplearningunb/building-cnn/branches?per_page=500'\n",
    "\n",
    "headers = {\n",
    "    \"Authorization\": \"Token {}\".format(token)\n",
    "}\n",
    "\n",
    "res = requests.get(url,headers=headers)\n",
    "\n",
    "tasks = []\n",
    "\n",
    "for branch in res.json():\n",
    "#     print(branch['name'],\"\\t\",branch['commit']['url'])\n",
    "    commit = requests.get(branch['commit']['url'],headers=headers)\n",
    "    if commit.json()['author'] != None:\n",
    "        author = commit.json()['author']['login']\n",
    "#         print('\\t',author)\n",
    "        files = \"\"\n",
    "        for file in commit.json()['files']:\n",
    "            filename = file['filename']\n",
    "            additions = file['additions']\n",
    "            deletions = file['deletions']\n",
    "            changes = \"-{} +{}\".format(deletions,additions)\n",
    "#             print('\\t\\t',filename,changes)\n",
    "            files = files + filename + \" \" + changes + \"\\n\"\n",
    "        \n",
    "        tasks.append({'name':branch['name'],'url': branch['commit']['url'],'author':author,'files':files.strip()})\n",
    "\n",
    "import pandas as pd\n",
    "\n",
    "df3 = pd.DataFrame(tasks)\n",
    "df3.to_csv('tarefa3.csv',index=False)\n",
    "df3.head(30)\n"
   ]
  },
  {
   "cell_type": "code",
   "execution_count": 4,
   "metadata": {},
   "outputs": [
    {
     "data": {
      "text/html": [
       "<div>\n",
       "<style scoped>\n",
       "    .dataframe tbody tr th:only-of-type {\n",
       "        vertical-align: middle;\n",
       "    }\n",
       "\n",
       "    .dataframe tbody tr th {\n",
       "        vertical-align: top;\n",
       "    }\n",
       "\n",
       "    .dataframe thead th {\n",
       "        text-align: right;\n",
       "    }\n",
       "</style>\n",
       "<table border=\"1\" class=\"dataframe\">\n",
       "  <thead>\n",
       "    <tr style=\"text-align: right;\">\n",
       "      <th></th>\n",
       "      <th>author</th>\n",
       "      <th>files</th>\n",
       "      <th>name</th>\n",
       "      <th>url</th>\n",
       "    </tr>\n",
       "  </thead>\n",
       "  <tbody>\n",
       "    <tr>\n",
       "      <th>0</th>\n",
       "      <td>AlGouvea</td>\n",
       "      <td>RecurrentNeuralNetworks.ipynb -248 +297</td>\n",
       "      <td>AlGouvea</td>\n",
       "      <td>https://api.github.com/repos/deeplearningunb/b...</td>\n",
       "    </tr>\n",
       "    <tr>\n",
       "      <th>1</th>\n",
       "      <td>andrewlucasgs</td>\n",
       "      <td>rnn.ipynb -0 +268</td>\n",
       "      <td>AndrewLucas_GabrielFilipe_JoaoZarbielli</td>\n",
       "      <td>https://api.github.com/repos/deeplearningunb/b...</td>\n",
       "    </tr>\n",
       "    <tr>\n",
       "      <th>2</th>\n",
       "      <td>byronkamal</td>\n",
       "      <td>requirements.txt -0 +6\\nrnn.ipynb -0 +1143</td>\n",
       "      <td>ByronKamal</td>\n",
       "      <td>https://api.github.com/repos/deeplearningunb/b...</td>\n",
       "    </tr>\n",
       "    <tr>\n",
       "      <th>3</th>\n",
       "      <td>eduardonunes2525</td>\n",
       "      <td>RNN.ipynb -0 +395\\nrnn.py -13 +9</td>\n",
       "      <td>EduardoNunes</td>\n",
       "      <td>https://api.github.com/repos/deeplearningunb/b...</td>\n",
       "    </tr>\n",
       "    <tr>\n",
       "      <th>4</th>\n",
       "      <td>EzequielDeOliveira</td>\n",
       "      <td>rnn.ipynb -0 +1768</td>\n",
       "      <td>Ezequiel</td>\n",
       "      <td>https://api.github.com/repos/deeplearningunb/b...</td>\n",
       "    </tr>\n",
       "    <tr>\n",
       "      <th>5</th>\n",
       "      <td>fellipe-araujo</td>\n",
       "      <td>rnn.ipynb -0 +305</td>\n",
       "      <td>FellipeAraujo</td>\n",
       "      <td>https://api.github.com/repos/deeplearningunb/b...</td>\n",
       "    </tr>\n",
       "    <tr>\n",
       "      <th>6</th>\n",
       "      <td>gabibguedes</td>\n",
       "      <td>RecurrentNeuralNetworks.ipynb -52 +29</td>\n",
       "      <td>Gabriela_Guedes</td>\n",
       "      <td>https://api.github.com/repos/deeplearningunb/b...</td>\n",
       "    </tr>\n",
       "    <tr>\n",
       "      <th>7</th>\n",
       "      <td>Gabrielle-Ribeiro</td>\n",
       "      <td>RecurrentNeuralNetworks.ipynb -52 +59</td>\n",
       "      <td>GabrielleRibeiro</td>\n",
       "      <td>https://api.github.com/repos/deeplearningunb/b...</td>\n",
       "    </tr>\n",
       "    <tr>\n",
       "      <th>8</th>\n",
       "      <td>gleal17</td>\n",
       "      <td>rnn_atividade.ipynb -0 +336</td>\n",
       "      <td>GuilhermeLeal</td>\n",
       "      <td>https://api.github.com/repos/deeplearningunb/b...</td>\n",
       "    </tr>\n",
       "    <tr>\n",
       "      <th>9</th>\n",
       "      <td>helenagoulart</td>\n",
       "      <td>RecurrentNeuralNetworks.ipynb -27 +19</td>\n",
       "      <td>Helena_Bretas_Goulart</td>\n",
       "      <td>https://api.github.com/repos/deeplearningunb/b...</td>\n",
       "    </tr>\n",
       "    <tr>\n",
       "      <th>10</th>\n",
       "      <td>igor-gme</td>\n",
       "      <td>building_rnn.ipynb -18 +18</td>\n",
       "      <td>IgorGabriel</td>\n",
       "      <td>https://api.github.com/repos/deeplearningunb/b...</td>\n",
       "    </tr>\n",
       "    <tr>\n",
       "      <th>11</th>\n",
       "      <td>IgorVeludo</td>\n",
       "      <td>requirements.txt -0 +6\\nrnn.ipynb -0 +1143</td>\n",
       "      <td>IgorVeludo</td>\n",
       "      <td>https://api.github.com/repos/deeplearningunb/b...</td>\n",
       "    </tr>\n",
       "    <tr>\n",
       "      <th>12</th>\n",
       "      <td>IolaneAndrade</td>\n",
       "      <td>RecurrentNeuralNetworks.ipynb -45 +30</td>\n",
       "      <td>IolaneAndrade</td>\n",
       "      <td>https://api.github.com/repos/deeplearningunb/b...</td>\n",
       "    </tr>\n",
       "    <tr>\n",
       "      <th>13</th>\n",
       "      <td>leossb36</td>\n",
       "      <td>RecurrentNeuralNetworks.ipynb -62 +287</td>\n",
       "      <td>LeonardoBarreiros</td>\n",
       "      <td>https://api.github.com/repos/deeplearningunb/b...</td>\n",
       "    </tr>\n",
       "    <tr>\n",
       "      <th>14</th>\n",
       "      <td>LucasSiqz</td>\n",
       "      <td>RecurrentNeuralNetworks.ipynb -43 +126\\nrequir...</td>\n",
       "      <td>Lucas_Siqueira</td>\n",
       "      <td>https://api.github.com/repos/deeplearningunb/b...</td>\n",
       "    </tr>\n",
       "    <tr>\n",
       "      <th>15</th>\n",
       "      <td>LucasPenido</td>\n",
       "      <td>rnn.ipynb -0 +8968</td>\n",
       "      <td>LucasPenido</td>\n",
       "      <td>https://api.github.com/repos/deeplearningunb/b...</td>\n",
       "    </tr>\n",
       "    <tr>\n",
       "      <th>16</th>\n",
       "      <td>MarthaDs</td>\n",
       "      <td>RecurrentNeuralNetworks.ipynb -59 +31</td>\n",
       "      <td>MarthaDs</td>\n",
       "      <td>https://api.github.com/repos/deeplearningunb/b...</td>\n",
       "    </tr>\n",
       "    <tr>\n",
       "      <th>17</th>\n",
       "      <td>matheusherique</td>\n",
       "      <td>RecurrentNeuralNetworks.ipynb -40 +25</td>\n",
       "      <td>MatheusCosta</td>\n",
       "      <td>https://api.github.com/repos/deeplearningunb/b...</td>\n",
       "    </tr>\n",
       "    <tr>\n",
       "      <th>18</th>\n",
       "      <td>MatheusRich</td>\n",
       "      <td>rnn.py -12 +12</td>\n",
       "      <td>MatheusRichard</td>\n",
       "      <td>https://api.github.com/repos/deeplearningunb/b...</td>\n",
       "    </tr>\n",
       "    <tr>\n",
       "      <th>19</th>\n",
       "      <td>Phe0</td>\n",
       "      <td>gru.ipynb -0 +1400</td>\n",
       "      <td>PedroFeo_GuilhermeRosa</td>\n",
       "      <td>https://api.github.com/repos/deeplearningunb/b...</td>\n",
       "    </tr>\n",
       "    <tr>\n",
       "      <th>20</th>\n",
       "      <td>Ronyell</td>\n",
       "      <td>RecurrentNeuralNetworks.ipynb -60 +83</td>\n",
       "      <td>Ronyell</td>\n",
       "      <td>https://api.github.com/repos/deeplearningunb/b...</td>\n",
       "    </tr>\n",
       "    <tr>\n",
       "      <th>21</th>\n",
       "      <td>ThalissonMelo</td>\n",
       "      <td>rnn.py -13 +13</td>\n",
       "      <td>ThalissonMelo</td>\n",
       "      <td>https://api.github.com/repos/deeplearningunb/b...</td>\n",
       "    </tr>\n",
       "    <tr>\n",
       "      <th>22</th>\n",
       "      <td>vitorl-s</td>\n",
       "      <td>RecurrentNeuralNetworks.ipynb -60 +83</td>\n",
       "      <td>VitorLeal</td>\n",
       "      <td>https://api.github.com/repos/deeplearningunb/b...</td>\n",
       "    </tr>\n",
       "    <tr>\n",
       "      <th>23</th>\n",
       "      <td>alaxalves</td>\n",
       "      <td>rnn.py -12 +12</td>\n",
       "      <td>alaxalves</td>\n",
       "      <td>https://api.github.com/repos/deeplearningunb/b...</td>\n",
       "    </tr>\n",
       "    <tr>\n",
       "      <th>24</th>\n",
       "      <td>andre-filho</td>\n",
       "      <td>RecurrentNeuralNetworks.ipynb -140 +1587</td>\n",
       "      <td>andre-filho</td>\n",
       "      <td>https://api.github.com/repos/deeplearningunb/b...</td>\n",
       "    </tr>\n",
       "    <tr>\n",
       "      <th>25</th>\n",
       "      <td>CaioNunes</td>\n",
       "      <td>rnn.py -23 +25\\ntraining_googleprices_savemode...</td>\n",
       "      <td>caio_nunes_carlos_aragon</td>\n",
       "      <td>https://api.github.com/repos/deeplearningunb/b...</td>\n",
       "    </tr>\n",
       "    <tr>\n",
       "      <th>26</th>\n",
       "      <td>caiovfernandes</td>\n",
       "      <td>RecurrentNeuralNetworks.ipynb -82 +41\\nrnn.py ...</td>\n",
       "      <td>caiovfernandes</td>\n",
       "      <td>https://api.github.com/repos/deeplearningunb/b...</td>\n",
       "    </tr>\n",
       "    <tr>\n",
       "      <th>27</th>\n",
       "      <td>clarissalimab</td>\n",
       "      <td>ITSA4.SA_Test.csv -0 +125\\nITSA4.SA_Train.csv ...</td>\n",
       "      <td>clarissa</td>\n",
       "      <td>https://api.github.com/repos/deeplearningunb/b...</td>\n",
       "    </tr>\n",
       "    <tr>\n",
       "      <th>28</th>\n",
       "      <td>cjjcastro</td>\n",
       "      <td>rnn.ipynb -0 +1120</td>\n",
       "      <td>cleber_castro</td>\n",
       "      <td>https://api.github.com/repos/deeplearningunb/b...</td>\n",
       "    </tr>\n",
       "    <tr>\n",
       "      <th>29</th>\n",
       "      <td>Hargre</td>\n",
       "      <td>RNN - GRU.ipynb -0 +362</td>\n",
       "      <td>felhar</td>\n",
       "      <td>https://api.github.com/repos/deeplearningunb/b...</td>\n",
       "    </tr>\n",
       "  </tbody>\n",
       "</table>\n",
       "</div>"
      ],
      "text/plain": [
       "                author                                              files  \\\n",
       "0             AlGouvea            RecurrentNeuralNetworks.ipynb -248 +297   \n",
       "1        andrewlucasgs                                  rnn.ipynb -0 +268   \n",
       "2           byronkamal         requirements.txt -0 +6\\nrnn.ipynb -0 +1143   \n",
       "3     eduardonunes2525                   RNN.ipynb -0 +395\\nrnn.py -13 +9   \n",
       "4   EzequielDeOliveira                                 rnn.ipynb -0 +1768   \n",
       "5       fellipe-araujo                                  rnn.ipynb -0 +305   \n",
       "6          gabibguedes              RecurrentNeuralNetworks.ipynb -52 +29   \n",
       "7    Gabrielle-Ribeiro              RecurrentNeuralNetworks.ipynb -52 +59   \n",
       "8              gleal17                        rnn_atividade.ipynb -0 +336   \n",
       "9        helenagoulart              RecurrentNeuralNetworks.ipynb -27 +19   \n",
       "10            igor-gme                         building_rnn.ipynb -18 +18   \n",
       "11          IgorVeludo         requirements.txt -0 +6\\nrnn.ipynb -0 +1143   \n",
       "12       IolaneAndrade              RecurrentNeuralNetworks.ipynb -45 +30   \n",
       "13            leossb36             RecurrentNeuralNetworks.ipynb -62 +287   \n",
       "14           LucasSiqz  RecurrentNeuralNetworks.ipynb -43 +126\\nrequir...   \n",
       "15         LucasPenido                                 rnn.ipynb -0 +8968   \n",
       "16            MarthaDs              RecurrentNeuralNetworks.ipynb -59 +31   \n",
       "17      matheusherique              RecurrentNeuralNetworks.ipynb -40 +25   \n",
       "18         MatheusRich                                     rnn.py -12 +12   \n",
       "19                Phe0                                 gru.ipynb -0 +1400   \n",
       "20             Ronyell              RecurrentNeuralNetworks.ipynb -60 +83   \n",
       "21       ThalissonMelo                                     rnn.py -13 +13   \n",
       "22            vitorl-s              RecurrentNeuralNetworks.ipynb -60 +83   \n",
       "23           alaxalves                                     rnn.py -12 +12   \n",
       "24         andre-filho           RecurrentNeuralNetworks.ipynb -140 +1587   \n",
       "25           CaioNunes  rnn.py -23 +25\\ntraining_googleprices_savemode...   \n",
       "26      caiovfernandes  RecurrentNeuralNetworks.ipynb -82 +41\\nrnn.py ...   \n",
       "27       clarissalimab  ITSA4.SA_Test.csv -0 +125\\nITSA4.SA_Train.csv ...   \n",
       "28           cjjcastro                                 rnn.ipynb -0 +1120   \n",
       "29              Hargre                            RNN - GRU.ipynb -0 +362   \n",
       "\n",
       "                                       name  \\\n",
       "0                                  AlGouvea   \n",
       "1   AndrewLucas_GabrielFilipe_JoaoZarbielli   \n",
       "2                                ByronKamal   \n",
       "3                              EduardoNunes   \n",
       "4                                  Ezequiel   \n",
       "5                             FellipeAraujo   \n",
       "6                           Gabriela_Guedes   \n",
       "7                          GabrielleRibeiro   \n",
       "8                             GuilhermeLeal   \n",
       "9                     Helena_Bretas_Goulart   \n",
       "10                              IgorGabriel   \n",
       "11                               IgorVeludo   \n",
       "12                            IolaneAndrade   \n",
       "13                        LeonardoBarreiros   \n",
       "14                           Lucas_Siqueira   \n",
       "15                              LucasPenido   \n",
       "16                                 MarthaDs   \n",
       "17                             MatheusCosta   \n",
       "18                           MatheusRichard   \n",
       "19                   PedroFeo_GuilhermeRosa   \n",
       "20                                  Ronyell   \n",
       "21                            ThalissonMelo   \n",
       "22                                VitorLeal   \n",
       "23                                alaxalves   \n",
       "24                              andre-filho   \n",
       "25                 caio_nunes_carlos_aragon   \n",
       "26                           caiovfernandes   \n",
       "27                                 clarissa   \n",
       "28                            cleber_castro   \n",
       "29                                   felhar   \n",
       "\n",
       "                                                  url  \n",
       "0   https://api.github.com/repos/deeplearningunb/b...  \n",
       "1   https://api.github.com/repos/deeplearningunb/b...  \n",
       "2   https://api.github.com/repos/deeplearningunb/b...  \n",
       "3   https://api.github.com/repos/deeplearningunb/b...  \n",
       "4   https://api.github.com/repos/deeplearningunb/b...  \n",
       "5   https://api.github.com/repos/deeplearningunb/b...  \n",
       "6   https://api.github.com/repos/deeplearningunb/b...  \n",
       "7   https://api.github.com/repos/deeplearningunb/b...  \n",
       "8   https://api.github.com/repos/deeplearningunb/b...  \n",
       "9   https://api.github.com/repos/deeplearningunb/b...  \n",
       "10  https://api.github.com/repos/deeplearningunb/b...  \n",
       "11  https://api.github.com/repos/deeplearningunb/b...  \n",
       "12  https://api.github.com/repos/deeplearningunb/b...  \n",
       "13  https://api.github.com/repos/deeplearningunb/b...  \n",
       "14  https://api.github.com/repos/deeplearningunb/b...  \n",
       "15  https://api.github.com/repos/deeplearningunb/b...  \n",
       "16  https://api.github.com/repos/deeplearningunb/b...  \n",
       "17  https://api.github.com/repos/deeplearningunb/b...  \n",
       "18  https://api.github.com/repos/deeplearningunb/b...  \n",
       "19  https://api.github.com/repos/deeplearningunb/b...  \n",
       "20  https://api.github.com/repos/deeplearningunb/b...  \n",
       "21  https://api.github.com/repos/deeplearningunb/b...  \n",
       "22  https://api.github.com/repos/deeplearningunb/b...  \n",
       "23  https://api.github.com/repos/deeplearningunb/b...  \n",
       "24  https://api.github.com/repos/deeplearningunb/b...  \n",
       "25  https://api.github.com/repos/deeplearningunb/b...  \n",
       "26  https://api.github.com/repos/deeplearningunb/b...  \n",
       "27  https://api.github.com/repos/deeplearningunb/b...  \n",
       "28  https://api.github.com/repos/deeplearningunb/b...  \n",
       "29  https://api.github.com/repos/deeplearningunb/b...  "
      ]
     },
     "execution_count": 4,
     "metadata": {},
     "output_type": "execute_result"
    }
   ],
   "source": [
    "# Task 4\n",
    "\n",
    "import requests\n",
    "\n",
    "url = 'https://api.github.com/repos/deeplearningunb/building-rnn/branches?per_page=500'\n",
    "\n",
    "headers = {\n",
    "    \"Authorization\": \"Token {}\".format(token)\n",
    "}\n",
    "\n",
    "res = requests.get(url,headers=headers)\n",
    "\n",
    "tasks = []\n",
    "\n",
    "for branch in res.json():\n",
    "#     print(branch['name'],\"\\t\",branch['commit']['url'])\n",
    "    commit = requests.get(branch['commit']['url'],headers=headers)\n",
    "    if commit.json()['author'] != None:\n",
    "        author = commit.json()['author']['login']\n",
    "#         print('\\t',author)\n",
    "        files = \"\"\n",
    "        for file in commit.json()['files']:\n",
    "            filename = file['filename']\n",
    "            additions = file['additions']\n",
    "            deletions = file['deletions']\n",
    "            changes = \"-{} +{}\".format(deletions,additions)\n",
    "#             print('\\t\\t',filename,changes)\n",
    "            files = files + filename + \" \" + changes + \"\\n\"\n",
    "        \n",
    "        tasks.append({'name':branch['name'],'url': branch['commit']['url'],'author':author,'files':files.strip()})\n",
    "\n",
    "import pandas as pd\n",
    "\n",
    "df4 = pd.DataFrame(tasks)\n",
    "df4.to_csv('tarefa4.csv',index=False)\n",
    "df4.head(30)\n"
   ]
  },
  {
   "cell_type": "code",
   "execution_count": 5,
   "metadata": {},
   "outputs": [
    {
     "data": {
      "text/html": [
       "<div>\n",
       "<style scoped>\n",
       "    .dataframe tbody tr th:only-of-type {\n",
       "        vertical-align: middle;\n",
       "    }\n",
       "\n",
       "    .dataframe tbody tr th {\n",
       "        vertical-align: top;\n",
       "    }\n",
       "\n",
       "    .dataframe thead th {\n",
       "        text-align: right;\n",
       "    }\n",
       "</style>\n",
       "<table border=\"1\" class=\"dataframe\">\n",
       "  <thead>\n",
       "    <tr style=\"text-align: right;\">\n",
       "      <th></th>\n",
       "      <th>author</th>\n",
       "      <th>files</th>\n",
       "      <th>name</th>\n",
       "      <th>url</th>\n",
       "    </tr>\n",
       "  </thead>\n",
       "  <tbody>\n",
       "    <tr>\n",
       "      <th>0</th>\n",
       "      <td>Mexazonic</td>\n",
       "      <td>Credit_Card_Applications.csv -691 +0\\nREADME.m...</td>\n",
       "      <td>Bruno_Duarte</td>\n",
       "      <td>https://api.github.com/repos/deeplearningunb/b...</td>\n",
       "    </tr>\n",
       "    <tr>\n",
       "      <th>1</th>\n",
       "      <td>byronkamal</td>\n",
       "      <td>credit_card_defaults.csv -0 +21001\\nrequiremen...</td>\n",
       "      <td>ByronKamal</td>\n",
       "      <td>https://api.github.com/repos/deeplearningunb/b...</td>\n",
       "    </tr>\n",
       "    <tr>\n",
       "      <th>2</th>\n",
       "      <td>EzequielDeOliveira</td>\n",
       "      <td>som.ipynb -0 +2119</td>\n",
       "      <td>Ezequiel</td>\n",
       "      <td>https://api.github.com/repos/deeplearningunb/b...</td>\n",
       "    </tr>\n",
       "    <tr>\n",
       "      <th>3</th>\n",
       "      <td>fellipe-araujo</td>\n",
       "      <td>som.ipynb -0 +168</td>\n",
       "      <td>FellipeAraujo</td>\n",
       "      <td>https://api.github.com/repos/deeplearningunb/b...</td>\n",
       "    </tr>\n",
       "    <tr>\n",
       "      <th>4</th>\n",
       "      <td>gabrielfilipe7unb</td>\n",
       "      <td>.gitignore -0 +1\\nCredit_Card_Applications.csv...</td>\n",
       "      <td>GabrielFilipe_AndrewLucas</td>\n",
       "      <td>https://api.github.com/repos/deeplearningunb/b...</td>\n",
       "    </tr>\n",
       "    <tr>\n",
       "      <th>5</th>\n",
       "      <td>gleal17</td>\n",
       "      <td>som_atividade.ipynb -0 +163</td>\n",
       "      <td>GuilhermeLeal</td>\n",
       "      <td>https://api.github.com/repos/deeplearningunb/b...</td>\n",
       "    </tr>\n",
       "    <tr>\n",
       "      <th>6</th>\n",
       "      <td>Gustavo-Nogueira</td>\n",
       "      <td>README.md -2 +14</td>\n",
       "      <td>Gustavo_Nogueira</td>\n",
       "      <td>https://api.github.com/repos/deeplearningunb/b...</td>\n",
       "    </tr>\n",
       "    <tr>\n",
       "      <th>7</th>\n",
       "      <td>IgorVeludo</td>\n",
       "      <td>credit_card_defaults.csv -0 +21001\\nreq.txt -0...</td>\n",
       "      <td>IgorVeludo</td>\n",
       "      <td>https://api.github.com/repos/deeplearningunb/b...</td>\n",
       "    </tr>\n",
       "    <tr>\n",
       "      <th>8</th>\n",
       "      <td>Hiroshi18</td>\n",
       "      <td>audit_dataset.ipynb -0 +149\\naudit_risk.csv -0...</td>\n",
       "      <td>LucasHorinouchi</td>\n",
       "      <td>https://api.github.com/repos/deeplearningunb/b...</td>\n",
       "    </tr>\n",
       "    <tr>\n",
       "      <th>9</th>\n",
       "      <td>MarthaDs</td>\n",
       "      <td>datasetmoodify.csv -0 +12344\\nselfOrganizingMa...</td>\n",
       "      <td>MarthaDs</td>\n",
       "      <td>https://api.github.com/repos/deeplearningunb/b...</td>\n",
       "    </tr>\n",
       "    <tr>\n",
       "      <th>10</th>\n",
       "      <td>matheusherique</td>\n",
       "      <td>iris.csv -0 +150\\nsom.ipynb -0 +127</td>\n",
       "      <td>MatheusCosta</td>\n",
       "      <td>https://api.github.com/repos/deeplearningunb/b...</td>\n",
       "    </tr>\n",
       "    <tr>\n",
       "      <th>11</th>\n",
       "      <td>MatheusRich</td>\n",
       "      <td>bob-ross-som.ipynb -0 +197\\nbob-ross.csv -0 +404</td>\n",
       "      <td>MatheusRich</td>\n",
       "      <td>https://api.github.com/repos/deeplearningunb/b...</td>\n",
       "    </tr>\n",
       "    <tr>\n",
       "      <th>12</th>\n",
       "      <td>Ronyell</td>\n",
       "      <td>Cancer diagnosis.ipynb -0 +290\\nbreast-cancer-...</td>\n",
       "      <td>Ronyell</td>\n",
       "      <td>https://api.github.com/repos/deeplearningunb/b...</td>\n",
       "    </tr>\n",
       "    <tr>\n",
       "      <th>13</th>\n",
       "      <td>alaxalves</td>\n",
       "      <td>alax-som.ipynb -0 +6\\nalax-som.py -0 +40\\nus-w...</td>\n",
       "      <td>alaxalves</td>\n",
       "      <td>https://api.github.com/repos/deeplearningunb/b...</td>\n",
       "    </tr>\n",
       "    <tr>\n",
       "      <th>14</th>\n",
       "      <td>carlosaragon</td>\n",
       "      <td>building-som-.ipynb -0 +277</td>\n",
       "      <td>caio_nunes_carlos_aragon</td>\n",
       "      <td>https://api.github.com/repos/deeplearningunb/b...</td>\n",
       "    </tr>\n",
       "    <tr>\n",
       "      <th>15</th>\n",
       "      <td>caiovfernandes</td>\n",
       "      <td>som.py -4 +4</td>\n",
       "      <td>caiovfernandes</td>\n",
       "      <td>https://api.github.com/repos/deeplearningunb/b...</td>\n",
       "    </tr>\n",
       "    <tr>\n",
       "      <th>16</th>\n",
       "      <td>lucasca73</td>\n",
       "      <td>SOM-DeeBo.ipynb -0 +230\\ncrimes.csv -0 +9985</td>\n",
       "      <td>deebo</td>\n",
       "      <td>https://api.github.com/repos/deeplearningunb/b...</td>\n",
       "    </tr>\n",
       "    <tr>\n",
       "      <th>17</th>\n",
       "      <td>Felizolinha</td>\n",
       "      <td>Credit_Card_Applications.csv -691 +0\\nSOM Imag...</td>\n",
       "      <td>felizolinha</td>\n",
       "      <td>https://api.github.com/repos/deeplearningunb/b...</td>\n",
       "    </tr>\n",
       "    <tr>\n",
       "      <th>18</th>\n",
       "      <td>GabrielOak</td>\n",
       "      <td>iris.csv -0 +150\\niris.ipynb -0 +113\\nminisom....</td>\n",
       "      <td>gabriel_carvalho_taynara_carvalho</td>\n",
       "      <td>https://api.github.com/repos/deeplearningunb/b...</td>\n",
       "    </tr>\n",
       "    <tr>\n",
       "      <th>19</th>\n",
       "      <td>gabrielalbino</td>\n",
       "      <td>som.py -13 +13\\nsom_result.png -0 +0</td>\n",
       "      <td>gabrielalbino</td>\n",
       "      <td>https://api.github.com/repos/deeplearningunb/b...</td>\n",
       "    </tr>\n",
       "    <tr>\n",
       "      <th>20</th>\n",
       "      <td>gabrielziegler3</td>\n",
       "      <td>ZieglerSOM.ipynb -0 +196</td>\n",
       "      <td>gabrielziegler</td>\n",
       "      <td>https://api.github.com/repos/deeplearningunb/b...</td>\n",
       "    </tr>\n",
       "    <tr>\n",
       "      <th>21</th>\n",
       "      <td>guilherme-mendes</td>\n",
       "      <td>map.png -0 +0\\nsom.py -2 +2</td>\n",
       "      <td>guilherme-mendes</td>\n",
       "      <td>https://api.github.com/repos/deeplearningunb/b...</td>\n",
       "    </tr>\n",
       "    <tr>\n",
       "      <th>22</th>\n",
       "      <td>inddiara</td>\n",
       "      <td>SelfOrganizingMaps.ipynb -0 +93</td>\n",
       "      <td>indiara</td>\n",
       "      <td>https://api.github.com/repos/deeplearningunb/b...</td>\n",
       "    </tr>\n",
       "    <tr>\n",
       "      <th>23</th>\n",
       "      <td>joaohenriquepda</td>\n",
       "      <td>minisom-self.ipynb -0 +299</td>\n",
       "      <td>joaohenrique</td>\n",
       "      <td>https://api.github.com/repos/deeplearningunb/b...</td>\n",
       "    </tr>\n",
       "    <tr>\n",
       "      <th>24</th>\n",
       "      <td>joaovitorml</td>\n",
       "      <td>Popular_Baby_Names.csv -19419 +0\\nsom.ipynb -2 +8</td>\n",
       "      <td>joaovitorml</td>\n",
       "      <td>https://api.github.com/repos/deeplearningunb/b...</td>\n",
       "    </tr>\n",
       "    <tr>\n",
       "      <th>25</th>\n",
       "      <td>lucasfcm9</td>\n",
       "      <td>README.md -1 +4</td>\n",
       "      <td>lucasfcm9</td>\n",
       "      <td>https://api.github.com/repos/deeplearningunb/b...</td>\n",
       "    </tr>\n",
       "    <tr>\n",
       "      <th>26</th>\n",
       "      <td>lucianaribeiro</td>\n",
       "      <td>somLuciana.ipynb -0 +2034\\nsomLucianaModificad...</td>\n",
       "      <td>lucianaribeiro</td>\n",
       "      <td>https://api.github.com/repos/deeplearningunb/b...</td>\n",
       "    </tr>\n",
       "    <tr>\n",
       "      <th>27</th>\n",
       "      <td>lucianosz7</td>\n",
       "      <td>som.ipynb -0 +129</td>\n",
       "      <td>lucianosz7</td>\n",
       "      <td>https://api.github.com/repos/deeplearningunb/b...</td>\n",
       "    </tr>\n",
       "    <tr>\n",
       "      <th>28</th>\n",
       "      <td>luis-gustavo</td>\n",
       "      <td>.DS_Store -0 +0\\nSOM Iris.ipynb -0 +1286\\niris...</td>\n",
       "      <td>luis-gustavo</td>\n",
       "      <td>https://api.github.com/repos/deeplearningunb/b...</td>\n",
       "    </tr>\n",
       "    <tr>\n",
       "      <th>29</th>\n",
       "      <td>matheusbsilva</td>\n",
       "      <td>SOM-titanic.ipynb -0 +696\\ntitanic.csv -0 +892</td>\n",
       "      <td>matheus_batista</td>\n",
       "      <td>https://api.github.com/repos/deeplearningunb/b...</td>\n",
       "    </tr>\n",
       "  </tbody>\n",
       "</table>\n",
       "</div>"
      ],
      "text/plain": [
       "                author                                              files  \\\n",
       "0            Mexazonic  Credit_Card_Applications.csv -691 +0\\nREADME.m...   \n",
       "1           byronkamal  credit_card_defaults.csv -0 +21001\\nrequiremen...   \n",
       "2   EzequielDeOliveira                                 som.ipynb -0 +2119   \n",
       "3       fellipe-araujo                                  som.ipynb -0 +168   \n",
       "4    gabrielfilipe7unb  .gitignore -0 +1\\nCredit_Card_Applications.csv...   \n",
       "5              gleal17                        som_atividade.ipynb -0 +163   \n",
       "6     Gustavo-Nogueira                                   README.md -2 +14   \n",
       "7           IgorVeludo  credit_card_defaults.csv -0 +21001\\nreq.txt -0...   \n",
       "8            Hiroshi18  audit_dataset.ipynb -0 +149\\naudit_risk.csv -0...   \n",
       "9             MarthaDs  datasetmoodify.csv -0 +12344\\nselfOrganizingMa...   \n",
       "10      matheusherique                iris.csv -0 +150\\nsom.ipynb -0 +127   \n",
       "11         MatheusRich   bob-ross-som.ipynb -0 +197\\nbob-ross.csv -0 +404   \n",
       "12             Ronyell  Cancer diagnosis.ipynb -0 +290\\nbreast-cancer-...   \n",
       "13           alaxalves  alax-som.ipynb -0 +6\\nalax-som.py -0 +40\\nus-w...   \n",
       "14        carlosaragon                        building-som-.ipynb -0 +277   \n",
       "15      caiovfernandes                                       som.py -4 +4   \n",
       "16           lucasca73       SOM-DeeBo.ipynb -0 +230\\ncrimes.csv -0 +9985   \n",
       "17         Felizolinha  Credit_Card_Applications.csv -691 +0\\nSOM Imag...   \n",
       "18          GabrielOak  iris.csv -0 +150\\niris.ipynb -0 +113\\nminisom....   \n",
       "19       gabrielalbino               som.py -13 +13\\nsom_result.png -0 +0   \n",
       "20     gabrielziegler3                           ZieglerSOM.ipynb -0 +196   \n",
       "21    guilherme-mendes                        map.png -0 +0\\nsom.py -2 +2   \n",
       "22            inddiara                    SelfOrganizingMaps.ipynb -0 +93   \n",
       "23     joaohenriquepda                         minisom-self.ipynb -0 +299   \n",
       "24         joaovitorml  Popular_Baby_Names.csv -19419 +0\\nsom.ipynb -2 +8   \n",
       "25           lucasfcm9                                    README.md -1 +4   \n",
       "26      lucianaribeiro  somLuciana.ipynb -0 +2034\\nsomLucianaModificad...   \n",
       "27          lucianosz7                                  som.ipynb -0 +129   \n",
       "28        luis-gustavo  .DS_Store -0 +0\\nSOM Iris.ipynb -0 +1286\\niris...   \n",
       "29       matheusbsilva     SOM-titanic.ipynb -0 +696\\ntitanic.csv -0 +892   \n",
       "\n",
       "                                 name  \\\n",
       "0                        Bruno_Duarte   \n",
       "1                          ByronKamal   \n",
       "2                            Ezequiel   \n",
       "3                       FellipeAraujo   \n",
       "4           GabrielFilipe_AndrewLucas   \n",
       "5                       GuilhermeLeal   \n",
       "6                    Gustavo_Nogueira   \n",
       "7                          IgorVeludo   \n",
       "8                     LucasHorinouchi   \n",
       "9                            MarthaDs   \n",
       "10                       MatheusCosta   \n",
       "11                        MatheusRich   \n",
       "12                            Ronyell   \n",
       "13                          alaxalves   \n",
       "14           caio_nunes_carlos_aragon   \n",
       "15                     caiovfernandes   \n",
       "16                              deebo   \n",
       "17                        felizolinha   \n",
       "18  gabriel_carvalho_taynara_carvalho   \n",
       "19                      gabrielalbino   \n",
       "20                     gabrielziegler   \n",
       "21                   guilherme-mendes   \n",
       "22                            indiara   \n",
       "23                       joaohenrique   \n",
       "24                        joaovitorml   \n",
       "25                          lucasfcm9   \n",
       "26                     lucianaribeiro   \n",
       "27                         lucianosz7   \n",
       "28                       luis-gustavo   \n",
       "29                    matheus_batista   \n",
       "\n",
       "                                                  url  \n",
       "0   https://api.github.com/repos/deeplearningunb/b...  \n",
       "1   https://api.github.com/repos/deeplearningunb/b...  \n",
       "2   https://api.github.com/repos/deeplearningunb/b...  \n",
       "3   https://api.github.com/repos/deeplearningunb/b...  \n",
       "4   https://api.github.com/repos/deeplearningunb/b...  \n",
       "5   https://api.github.com/repos/deeplearningunb/b...  \n",
       "6   https://api.github.com/repos/deeplearningunb/b...  \n",
       "7   https://api.github.com/repos/deeplearningunb/b...  \n",
       "8   https://api.github.com/repos/deeplearningunb/b...  \n",
       "9   https://api.github.com/repos/deeplearningunb/b...  \n",
       "10  https://api.github.com/repos/deeplearningunb/b...  \n",
       "11  https://api.github.com/repos/deeplearningunb/b...  \n",
       "12  https://api.github.com/repos/deeplearningunb/b...  \n",
       "13  https://api.github.com/repos/deeplearningunb/b...  \n",
       "14  https://api.github.com/repos/deeplearningunb/b...  \n",
       "15  https://api.github.com/repos/deeplearningunb/b...  \n",
       "16  https://api.github.com/repos/deeplearningunb/b...  \n",
       "17  https://api.github.com/repos/deeplearningunb/b...  \n",
       "18  https://api.github.com/repos/deeplearningunb/b...  \n",
       "19  https://api.github.com/repos/deeplearningunb/b...  \n",
       "20  https://api.github.com/repos/deeplearningunb/b...  \n",
       "21  https://api.github.com/repos/deeplearningunb/b...  \n",
       "22  https://api.github.com/repos/deeplearningunb/b...  \n",
       "23  https://api.github.com/repos/deeplearningunb/b...  \n",
       "24  https://api.github.com/repos/deeplearningunb/b...  \n",
       "25  https://api.github.com/repos/deeplearningunb/b...  \n",
       "26  https://api.github.com/repos/deeplearningunb/b...  \n",
       "27  https://api.github.com/repos/deeplearningunb/b...  \n",
       "28  https://api.github.com/repos/deeplearningunb/b...  \n",
       "29  https://api.github.com/repos/deeplearningunb/b...  "
      ]
     },
     "execution_count": 5,
     "metadata": {},
     "output_type": "execute_result"
    }
   ],
   "source": [
    "# Task 5\n",
    "\n",
    "import requests\n",
    "\n",
    "url = 'https://api.github.com/repos/deeplearningunb/building-som/branches?per_page=500'\n",
    "\n",
    "headers = {\n",
    "    \"Authorization\": \"Token {}\".format(token)\n",
    "}\n",
    "\n",
    "res = requests.get(url,headers=headers)\n",
    "\n",
    "tasks = []\n",
    "\n",
    "for branch in res.json():\n",
    "#     print(branch['name'],\"\\t\",branch['commit']['url'])\n",
    "    commit = requests.get(branch['commit']['url'],headers=headers)\n",
    "    if commit.json()['author'] != None:\n",
    "        author = commit.json()['author']['login']\n",
    "#         print('\\t',author)\n",
    "        files = \"\"\n",
    "        for file in commit.json()['files']:\n",
    "            filename = file['filename']\n",
    "            additions = file['additions']\n",
    "            deletions = file['deletions']\n",
    "            changes = \"-{} +{}\".format(deletions,additions)\n",
    "#             print('\\t\\t',filename,changes)\n",
    "            files = files + filename + \" \" + changes + \"\\n\"\n",
    "        \n",
    "        tasks.append({'name':branch['name'],'url': branch['commit']['url'],'author':author,'files':files.strip()})\n",
    "\n",
    "import pandas as pd\n",
    "\n",
    "df5 = pd.DataFrame(tasks)\n",
    "df5.to_csv('tarefa5.csv',index=False)\n",
    "df5.head(30)"
   ]
  },
  {
   "cell_type": "markdown",
   "metadata": {},
   "source": [
    "## FIM =)"
   ]
  }
 ],
 "metadata": {
  "kernelspec": {
   "display_name": "Python 3",
   "language": "python",
   "name": "python3"
  },
  "language_info": {
   "codemirror_mode": {
    "name": "ipython",
    "version": 3
   },
   "file_extension": ".py",
   "mimetype": "text/x-python",
   "name": "python",
   "nbconvert_exporter": "python",
   "pygments_lexer": "ipython3",
   "version": "3.7.3"
  }
 },
 "nbformat": 4,
 "nbformat_minor": 4
}
